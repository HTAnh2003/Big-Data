{
 "cells": [
  {
   "cell_type": "markdown",
   "id": "e0fc5fb4",
   "metadata": {
    "slideshow": {
     "slide_type": ""
    },
    "tags": []
   },
   "source": [
    "### TRƯỜNG ĐẠI HỌC CÔNG NGHIỆP\n",
    "### THÀNH PHỐ HỒ CHÍ MINH\n",
    " \n",
    "### KHOA Công nghệ Thông tin   \n",
    "## ĐỀ THI GIỮA KỲ\n",
    "### Môn thi : Nhập môn dữ liệu lớn \n",
    "### Lớp/Lớp học phần:  DHKHDL17A\n",
    "* Thời gian làm bài: 75 phút (Không kể thời gian phát đề)\n",
    "* Thí sinh được sử dụng tài liệu và tra cứu tại trang wed\n",
    "  - https://spark.apache.org/\n",
    "  - https://stackoverflow.com/\n",
    "  - - https://learn.microsoft.com/en-us/sql/t-sql\n",
    "* Thí sinh làm bài và lưu lại với định dạng mssv_hovaten_gk.ipynb. Ví dụ bạn có mã số sinh viên là: 12131411, họ và tên: Hoàng Tiến Anh, thì nộp bài với tên: **12131411_HoangTienAnh_gk.ipynb**\n",
    "* Thí sinh sử dụng dữ liệu *emails.csv*, điều chỉnh biến 'dataPath' ở cell đầu tiên lại cho đúng với đường dẫn đến file data.\n",
    "* Hoàn thành tất cả các vị trí có chữ **# YOUR CODE HERE** để hoàn thành yêu cầu của mỗi hàm.\n",
    "#### LƯU Ý: KHÔNG THAY ĐỔI NHỮNG CHỖ KHÁC"
   ]
  },
  {
   "cell_type": "code",
   "execution_count": 1,
   "id": "ca91b07c",
   "metadata": {
    "slideshow": {
     "slide_type": ""
    },
    "tags": []
   },
   "outputs": [],
   "source": [
    "import os\n",
    "from pyspark.sql import SparkSession\n",
    "from pyspark.sql.dataframe import DataFrame\n",
    "from pyspark.rdd import RDD\n",
    "from pyspark.sql.types import Row\n",
    "\n",
    "sc = SparkSession.builder \\\n",
    "    .appName(\"Email Data Processing\") \\\n",
    "    .getOrCreate()\n",
    "\n",
    "dataPath = \"./email.csv\""
   ]
  },
  {
   "cell_type": "code",
   "execution_count": 2,
   "id": "3f3b6abf-ef81-4387-a2bf-c9d0d3f8504d",
   "metadata": {},
   "outputs": [
    {
     "data": {
      "text/html": [
       "<div>\n",
       "<style scoped>\n",
       "    .dataframe tbody tr th:only-of-type {\n",
       "        vertical-align: middle;\n",
       "    }\n",
       "\n",
       "    .dataframe tbody tr th {\n",
       "        vertical-align: top;\n",
       "    }\n",
       "\n",
       "    .dataframe thead th {\n",
       "        text-align: right;\n",
       "    }\n",
       "</style>\n",
       "<table border=\"1\" class=\"dataframe\">\n",
       "  <thead>\n",
       "    <tr style=\"text-align: right;\">\n",
       "      <th></th>\n",
       "      <th>file</th>\n",
       "      <th>message</th>\n",
       "    </tr>\n",
       "  </thead>\n",
       "  <tbody>\n",
       "    <tr>\n",
       "      <th>0</th>\n",
       "      <td>jones-t/sent/5567.</td>\n",
       "      <td>Message-ID: &lt;11629296.1075847544895.JavaMail.e...</td>\n",
       "    </tr>\n",
       "    <tr>\n",
       "      <th>1</th>\n",
       "      <td>hayslett-r/all_documents/134.</td>\n",
       "      <td>Message-ID: &lt;11398637.1075844279035.JavaMail.e...</td>\n",
       "    </tr>\n",
       "    <tr>\n",
       "      <th>2</th>\n",
       "      <td>taylor-m/all_documents/1477.</td>\n",
       "      <td>Message-ID: &lt;28378907.1075859912982.JavaMail.e...</td>\n",
       "    </tr>\n",
       "    <tr>\n",
       "      <th>3</th>\n",
       "      <td>lavorato-j/deleted_items/443.</td>\n",
       "      <td>Message-ID: &lt;30906538.1075861704525.JavaMail.e...</td>\n",
       "    </tr>\n",
       "    <tr>\n",
       "      <th>4</th>\n",
       "      <td>farmer-d/logistics/991.</td>\n",
       "      <td>Message-ID: &lt;2344701.1075854128586.JavaMail.ev...</td>\n",
       "    </tr>\n",
       "  </tbody>\n",
       "</table>\n",
       "</div>"
      ],
      "text/plain": [
       "                            file  \\\n",
       "0             jones-t/sent/5567.   \n",
       "1  hayslett-r/all_documents/134.   \n",
       "2   taylor-m/all_documents/1477.   \n",
       "3  lavorato-j/deleted_items/443.   \n",
       "4        farmer-d/logistics/991.   \n",
       "\n",
       "                                             message  \n",
       "0  Message-ID: <11629296.1075847544895.JavaMail.e...  \n",
       "1  Message-ID: <11398637.1075844279035.JavaMail.e...  \n",
       "2  Message-ID: <28378907.1075859912982.JavaMail.e...  \n",
       "3  Message-ID: <30906538.1075861704525.JavaMail.e...  \n",
       "4  Message-ID: <2344701.1075854128586.JavaMail.ev...  "
      ]
     },
     "execution_count": 2,
     "metadata": {},
     "output_type": "execute_result"
    }
   ],
   "source": [
    "import pandas as pd \n",
    "\n",
    "df = pd.read_csv(dataPath)\n",
    "df.head()"
   ]
  },
  {
   "cell_type": "code",
   "execution_count": 3,
   "id": "96826834-a30d-42b1-8359-5e17f4a06bb1",
   "metadata": {},
   "outputs": [
    {
     "data": {
      "text/plain": [
       "file       0\n",
       "message    0\n",
       "dtype: int64"
      ]
     },
     "execution_count": 3,
     "metadata": {},
     "output_type": "execute_result"
    }
   ],
   "source": [
    "df.isnull().sum()"
   ]
  },
  {
   "cell_type": "code",
   "execution_count": 4,
   "id": "e320a6fd-37ff-40ee-8a93-192492df030e",
   "metadata": {},
   "outputs": [
    {
     "data": {
      "text/plain": [
       "\"Message-ID: <11629296.1075847544895.JavaMail.evans@thyme>\\nDate: Thu, 1 Feb 2001 08:00:00 -0800 (PST)\\nFrom: tana.jones@enron.com\\nTo: bob.bowen@enron.com, laurel.adams@enron.com, andrea.guillen@enron.com, \\n\\tlarry.hunter@enron.com, gordon.heaney@enron.com, \\n\\tjanie.aguayo@enron.com, derek.bailey@enron.com, \\n\\tdiane.anderson@enron.com, kevin.meredith@enron.com, \\n\\tscott.tackett@enron.com, celeste.cisneros@enron.com, \\n\\ttiffany.williams@enron.com, kim.theriot@enron.com, \\n\\tdianne.seib@enron.com, melissa.murphy@enron.com, \\n\\twilliam.bradford@enron.com, debbie.brackett@enron.com, \\n\\ttanya.rohauer@enron.com, brant.reves@enron.com, tracy.ngo@enron.com, \\n\\tlesli.campbell@enron.com, veronica.espinoza@enron.com, \\n\\tpaul.radous@enron.com, wendi.lebrocq@enron.com, \\n\\trussell.diamond@enron.com, tom.moran@enron.com, \\n\\tedward.sacks@enron.com, nidia.mendoza@enron.com, \\n\\tbradley.diebner@enron.com, wendy.conwell@enron.com, \\n\\tdarren.vanek@enron.com, rudwell.johnson@enron.com, \\n\\tbrent.hendry@enron.com, sara.shackleton@enron.com, \\n\\tmark.taylor@enron.com, carol.clair@enron.com, susan.bailey@enron.com, \\n\\tmary.cook@enron.com, samantha.boyd@enron.com, robert.bruce@enron.com, \\n\\tstephanie.panus@enron.com, frank.sayre@enron.com, \\n\\tcheryl.nelson@enron.com, francisco.leite@enron.com, \\n\\tmarilyn.colbert@enron.com, diane.ellstrom@enron.com, \\n\\tlynn.shivers@enron.com, bill.hare@enron.com, leslie.reeves@enron.com, \\n\\tjason.moore@enron.com, dianne.seib@enron.com, \\n\\tsamuel.schott@enron.com, anthony.campos@enron.com, \\n\\tbernice.rodriguez@enron.com, mary.gosnell@enron.com, \\n\\tdale.neuner@enron.com, karen.lambert@enron.com, \\n\\tfrank.davis@enron.com, carrie.southard@enron.com, \\n\\tamber.ebow@enron.com, adnan.patel@enron.com, \\n\\tmelissa.murphy@enron.com, stacey.richardson@enron.com, \\n\\tlisa.lees@enron.com, georgi.landau@enron.com, \\n\\tcheryl.johnson@enron.com\\nSubject: Deutsche Bank AG\\nCc: larry.gagliardi@enron.com, denis.o'connell@enron.com, \\n\\tmatthew.dawson@enron.com\\nMime-Version: 1.0\\nContent-Type: text/plain; charset=us-ascii\\nContent-Transfer-Encoding: 7bit\\nBcc: larry.gagliardi@enron.com, denis.o'connell@enron.com, \\n\\tmatthew.dawson@enron.com\\nX-From: Tana Jones\\nX-To: Bob Bowen, Laurel Adams, Andrea R Guillen, Larry Joe Hunter, Gordon Heaney, Janie Aguayo, Derek Bailey, Diane Anderson, Kevin Meredith, Scott Tackett, Celeste Cisneros, Tiffany Williams, Kim S Theriot, Dianne Seib, Melissa Ann Murphy, William S Bradford, Debbie R Brackett, Tanya Rohauer, Brant Reves, Tracy Ngo, Lesli Campbell, Veronica Espinoza, Paul Radous, Wendi LeBrocq, Russell Diamond, Tom Moran, Edward Sacks, Nidia Mendoza, Bradley Diebner, Wendy Conwell, Darren Vanek, Rudwell Johnson, Brent Hendry, Sara Shackleton, Mark Taylor, Carol St Clair, Susan Bailey, Mary Cook, Samantha Boyd, Robert Bruce, Stephanie Panus, Frank Sayre, Cheryl Nelson, Francisco Pinto Leite, Marilyn Colbert, Diane Ellstrom, Lynn E Shivers, Bill D Hare, Leslie Reeves, Jason Moore, Dianne Seib, Samuel Schott, Anthony Campos, Bernice Rodriguez, Mary G Gosnell, Dale Neuner, Karen Lambert, Frank L Davis, Carrie Southard, Amber Ebow, Adnan Patel, Melissa Ann Murphy, Stacey Richardson, Lisa Lees, Georgi Landau, Cheryl Johnson\\nX-cc: Larry Gagliardi, Denis O'Connell, Matthew Dawson\\nX-bcc: \\nX-Folder: \\\\Tanya_Jones_June2001\\\\Notes Folders\\\\Sent\\nX-Origin: JONES-T\\nX-FileName: tjones.nsf\\n\\nWe have received the following executed Master Agreement:\\n\\nType of Contract: ISDA Master Agreement (Multicurrency-Cross Border)\\n\\nEffective Date:  December 29, 2000\\n\\nEnron Entity:  Enron North America Corp.\\n\\nCounterparty:  Deutsche Bank AG\\n\\nTransactions Covered: Approved for all products, including FX \\n          \\nConfirming Entity: Deutsche Bank AG\\n\\nCalculation Agent: Deutsche Bank AG\\n\\nGoverning Law:  New York\\n\\nApproved Branches For\\nDeutsche Bank:  Brussels, Frankfurt, London, New York, Paris, Singapore, \\nSydney, Tokyo\\n\\nAgency Relationship: Deutsche Bank AG may act as Agent for Deutsche Bank \\nSecurities, if  they are specified as acting in such agency capacity in a \\nConfirmation.\\n\\nPAYMENT NETTING:   Cross transaction payment netting only applies to \\nCommodity Transactions.  There is no payment netting for non-commodity \\ntransactions.  \""
      ]
     },
     "execution_count": 4,
     "metadata": {},
     "output_type": "execute_result"
    }
   ],
   "source": [
    "df.message[0]"
   ]
  },
  {
   "cell_type": "code",
   "execution_count": 5,
   "id": "c1401ee6-d743-498d-8061-1423fb8a287b",
   "metadata": {},
   "outputs": [],
   "source": [
    "from functools import reduce # thêm\n",
    "from pyspark.sql.functions import col # thêm"
   ]
  },
  {
   "cell_type": "code",
   "execution_count": 6,
   "id": "9a0010c1",
   "metadata": {
    "deletable": false,
    "nbgrader": {
     "cell_type": "code",
     "checksum": "ec0a8b5af082451cb9c946fda360a4eb",
     "grade": false,
     "grade_id": "cell-14537bbf8b2dcd10",
     "locked": false,
     "schema_version": 3,
     "solution": true,
     "task": false
    }
   },
   "outputs": [],
   "source": [
    "#0.5\n",
    "def loadAndProcessCsv(filePath: str, spark: SparkSession) -> DataFrame:\n",
    "    '''\n",
    "    This function loads a CSV file into a Spark DataFrame, caches it, \n",
    "    drops rows with null values, and prints the schema. (using option when read to keep format - header, columns)\n",
    "    \n",
    "    Args:\n",
    "        file_path (str): Path to the CSV file.\n",
    "        spark (SparkSession): Active Spark session.\n",
    "        \n",
    "    Returns:\n",
    "        DataFrame: Processed DataFrame.\n",
    "    '''\n",
    "\n",
    "    data = None\n",
    "    # YOUR CODE HERE\n",
    "    data = spark.read \\\n",
    "        .format(\"csv\") \\\n",
    "        .option(\"header\",\"true\") \\\n",
    "        .option(\"inferSchema\",\"true\") \\\n",
    "        .option(\"samplingRatio\",.01) \\\n",
    "        .option(\"multiLine\",\"true\") \\\n",
    "        .option(\"escape\", '\"') \\\n",
    "        .option(\"quote\", '\"') \\\n",
    "        .option(\"sep\", \",\") \\\n",
    "        .load(filePath)\n",
    "    \n",
    "    # 1. **`header`**: `\"true\"` - Dòng đầu là tên cột.\n",
    "    # 2. **`inferSchema`**: `\"true\"` - Tự suy luận kiểu dữ liệu.\n",
    "    # 3. **`samplingRatio`**: `.01` - Lấy mẫu 1% để suy luận kiểu thay vì lấy hết thì rất lâu.\n",
    "    # 4. **`multiLine`**: `\"true\"` - Hỗ trợ nhiều dòng trong một ô.\n",
    "    # 5. **`escape`**: `'\"'` - Ký tự thoát cho dấu ngoặc kép.\n",
    "    # 6. **`quote`**: `'\"'` - Ký tự bao quanh chuỗi (dấu ngoặc kép).\n",
    "    # 7. **`sep`**: `\",\"` - Dấu phân cách giữa các cột (dấu phẩy).\n",
    "\n",
    "    # Lọc các hàng có giá trị null trong bất kỳ cột nào\n",
    "    data.filter(\n",
    "        reduce(lambda a, b: a | b, (col(c).isNull() for c in data.columns))\n",
    "    ).show()\n",
    "\n",
    "    data = data.dropna()\n",
    "    \n",
    "    data.cache()\n",
    "    \n",
    "    print(\"------Schema------\")\n",
    "    data.printSchema()\n",
    "    \n",
    "    return data"
   ]
  },
  {
   "cell_type": "code",
   "execution_count": 7,
   "id": "c2a122e8",
   "metadata": {},
   "outputs": [
    {
     "name": "stdout",
     "output_type": "stream",
     "text": [
      "+----+-------+\n",
      "|file|message|\n",
      "+----+-------+\n",
      "+----+-------+\n",
      "\n",
      "------Schema------\n",
      "root\n",
      " |-- file: string (nullable = true)\n",
      " |-- message: string (nullable = true)\n",
      "\n"
     ]
    }
   ],
   "source": [
    "data = loadAndProcessCsv(dataPath,sc)"
   ]
  },
  {
   "cell_type": "code",
   "execution_count": 8,
   "id": "9e4b826d-1228-412d-af7a-83863b8211ed",
   "metadata": {},
   "outputs": [
    {
     "name": "stdout",
     "output_type": "stream",
     "text": [
      "Số lượng partition: 1\n"
     ]
    }
   ],
   "source": [
    "num_partitions = data.rdd.getNumPartitions()\n",
    "print(\"Số lượng partition:\", num_partitions)"
   ]
  },
  {
   "cell_type": "code",
   "execution_count": 9,
   "id": "9b5fe3fb",
   "metadata": {},
   "outputs": [
    {
     "data": {
      "text/plain": [
       "['file', 'message']"
      ]
     },
     "execution_count": 9,
     "metadata": {},
     "output_type": "execute_result"
    }
   ],
   "source": [
    "data.columns"
   ]
  },
  {
   "cell_type": "code",
   "execution_count": 10,
   "id": "d45fb58c-d60f-4272-923f-a91a1da9572d",
   "metadata": {},
   "outputs": [
    {
     "name": "stdout",
     "output_type": "stream",
     "text": [
      "+--------------------+--------------------+\n",
      "|                file|             message|\n",
      "+--------------------+--------------------+\n",
      "|  jones-t/sent/5567.|Message-ID: <1162...|\n",
      "|hayslett-r/all_do...|Message-ID: <1139...|\n",
      "|taylor-m/all_docu...|Message-ID: <2837...|\n",
      "|lavorato-j/delete...|Message-ID: <3090...|\n",
      "|farmer-d/logistic...|Message-ID: <2344...|\n",
      "|donohoe-t/all_doc...|Message-ID: <2090...|\n",
      "|gang-l/deleted_it...|Message-ID: <2583...|\n",
      "|guzman-m/discussi...|Message-ID: <1170...|\n",
      "|kean-s/all_docume...|Message-ID: <1471...|\n",
      "|meyers-a/deleted_...|Message-ID: <2596...|\n",
      "|keavey-p/discussi...|Message-ID: <2588...|\n",
      "|maggi-m/deleted_i...|Message-ID: <1966...|\n",
      "|campbell-l/discus...|Message-ID: <1376...|\n",
      "|jones-t/all_docum...|Message-ID: <1024...|\n",
      "|mann-k/_sent_mail...|Message-ID: <1871...|\n",
      "|haedicke-m/all_do...|Message-ID: <8046...|\n",
      "|whalley-l/discuss...|Message-ID: <2996...|\n",
      "|campbell-l/notes_...|Message-ID: <2743...|\n",
      "|kean-s/discussion...|Message-ID: <5027...|\n",
      "|love-p/_sent_mail...|Message-ID: <2066...|\n",
      "+--------------------+--------------------+\n",
      "only showing top 20 rows\n",
      "\n"
     ]
    }
   ],
   "source": [
    "data.show()"
   ]
  },
  {
   "cell_type": "code",
   "execution_count": 11,
   "id": "cd9a9c0b-5fe4-49ea-b390-cba39c479a72",
   "metadata": {},
   "outputs": [
    {
     "name": "stdout",
     "output_type": "stream",
     "text": [
      "+----------+-----------+\n",
      "|total_rows|file_unique|\n",
      "+----------+-----------+\n",
      "|     20000|      20000|\n",
      "+----------+-----------+\n",
      "\n"
     ]
    }
   ],
   "source": [
    "from pyspark.sql.functions import *\n",
    "data.select(count(\"*\").alias(\"total_rows\"),\n",
    "            countDistinct(\"file\").alias(\"file_unique\")).show()"
   ]
  },
  {
   "cell_type": "code",
   "execution_count": 12,
   "id": "4d86ceee-b5ea-466f-aaf5-fcfb6337858f",
   "metadata": {},
   "outputs": [
    {
     "name": "stdout",
     "output_type": "stream",
     "text": [
      "+----------+-----------+\n",
      "|total_rows|fine_unique|\n",
      "+----------+-----------+\n",
      "|     20000|      20000|\n",
      "+----------+-----------+\n",
      "\n"
     ]
    }
   ],
   "source": [
    "data.selectExpr(\"count(*) as total_rows\",\n",
    "               \"count(distinct (file)) as fine_unique\").show()"
   ]
  },
  {
   "cell_type": "code",
   "execution_count": 13,
   "id": "c8336cf7-1ec2-42e8-a9c8-71aae3d19319",
   "metadata": {},
   "outputs": [],
   "source": [
    "data.createOrReplaceTempView(\"emails\")"
   ]
  },
  {
   "cell_type": "code",
   "execution_count": 14,
   "id": "59651334",
   "metadata": {
    "deletable": false,
    "editable": false,
    "nbgrader": {
     "cell_type": "code",
     "checksum": "0805998182cdbd65ff49968dc356ad9e",
     "grade": true,
     "grade_id": "cell-a4865a6f9031b776",
     "locked": true,
     "points": 0.5,
     "schema_version": 3,
     "solution": false,
     "task": false
    }
   },
   "outputs": [
    {
     "name": "stdout",
     "output_type": "stream",
     "text": [
      "+----------+-----------+\n",
      "|total_rows|file_unique|\n",
      "+----------+-----------+\n",
      "|     20000|      20000|\n",
      "+----------+-----------+\n",
      "\n"
     ]
    }
   ],
   "source": [
    "sc.sql(\"select count(*) as total_rows, count(distinct(file)) as file_unique from emails\").show()"
   ]
  },
  {
   "cell_type": "code",
   "execution_count": 15,
   "id": "ce98eef1",
   "metadata": {
    "deletable": false,
    "nbgrader": {
     "cell_type": "code",
     "checksum": "bb5e3dcd00237928205177e3b0bf2921",
     "grade": false,
     "grade_id": "cell-856294652d081020",
     "locked": false,
     "schema_version": 3,
     "solution": true,
     "task": false
    }
   },
   "outputs": [],
   "source": [
    "# 0.5đ\n",
    "def createRDD(data: DataFrame)->RDD[Row]:\n",
    "    '''\n",
    "    This function converts a Spark DataFrame into an RDD of Rows.\n",
    "    \n",
    "    Args:\n",
    "        data (DataFrame): Input DataFrame containing data loaded by Spark.\n",
    "        \n",
    "    Returns:\n",
    "        RDD[Row]: An RDD containing all Rows from the input DataFrame.\n",
    "    '''\n",
    "    outRDD = None\n",
    "\n",
    "    # YOUR CODE HERE\n",
    "    outRDD = data.rdd\n",
    "    return outRDD"
   ]
  },
  {
   "cell_type": "code",
   "execution_count": 16,
   "id": "e075b40c",
   "metadata": {},
   "outputs": [],
   "source": [
    "emailRDD = createRDD(data)\n",
    "assert isinstance(emailRDD, RDD), \"createRDD() does not return the correct data type (RDD)\"\n",
    "assert isinstance(emailRDD.first(),Row), \"createRDD() contains elements that are not of type Row\""
   ]
  },
  {
   "cell_type": "code",
   "execution_count": 17,
   "id": "4956f75a-dbe5-48e1-b1c9-843d11093a79",
   "metadata": {},
   "outputs": [
    {
     "data": {
      "text/plain": [
       "Row(file='jones-t/sent/5567.', message=\"Message-ID: <11629296.1075847544895.JavaMail.evans@thyme>\\nDate: Thu, 1 Feb 2001 08:00:00 -0800 (PST)\\nFrom: tana.jones@enron.com\\nTo: bob.bowen@enron.com, laurel.adams@enron.com, andrea.guillen@enron.com, \\n\\tlarry.hunter@enron.com, gordon.heaney@enron.com, \\n\\tjanie.aguayo@enron.com, derek.bailey@enron.com, \\n\\tdiane.anderson@enron.com, kevin.meredith@enron.com, \\n\\tscott.tackett@enron.com, celeste.cisneros@enron.com, \\n\\ttiffany.williams@enron.com, kim.theriot@enron.com, \\n\\tdianne.seib@enron.com, melissa.murphy@enron.com, \\n\\twilliam.bradford@enron.com, debbie.brackett@enron.com, \\n\\ttanya.rohauer@enron.com, brant.reves@enron.com, tracy.ngo@enron.com, \\n\\tlesli.campbell@enron.com, veronica.espinoza@enron.com, \\n\\tpaul.radous@enron.com, wendi.lebrocq@enron.com, \\n\\trussell.diamond@enron.com, tom.moran@enron.com, \\n\\tedward.sacks@enron.com, nidia.mendoza@enron.com, \\n\\tbradley.diebner@enron.com, wendy.conwell@enron.com, \\n\\tdarren.vanek@enron.com, rudwell.johnson@enron.com, \\n\\tbrent.hendry@enron.com, sara.shackleton@enron.com, \\n\\tmark.taylor@enron.com, carol.clair@enron.com, susan.bailey@enron.com, \\n\\tmary.cook@enron.com, samantha.boyd@enron.com, robert.bruce@enron.com, \\n\\tstephanie.panus@enron.com, frank.sayre@enron.com, \\n\\tcheryl.nelson@enron.com, francisco.leite@enron.com, \\n\\tmarilyn.colbert@enron.com, diane.ellstrom@enron.com, \\n\\tlynn.shivers@enron.com, bill.hare@enron.com, leslie.reeves@enron.com, \\n\\tjason.moore@enron.com, dianne.seib@enron.com, \\n\\tsamuel.schott@enron.com, anthony.campos@enron.com, \\n\\tbernice.rodriguez@enron.com, mary.gosnell@enron.com, \\n\\tdale.neuner@enron.com, karen.lambert@enron.com, \\n\\tfrank.davis@enron.com, carrie.southard@enron.com, \\n\\tamber.ebow@enron.com, adnan.patel@enron.com, \\n\\tmelissa.murphy@enron.com, stacey.richardson@enron.com, \\n\\tlisa.lees@enron.com, georgi.landau@enron.com, \\n\\tcheryl.johnson@enron.com\\nSubject: Deutsche Bank AG\\nCc: larry.gagliardi@enron.com, denis.o'connell@enron.com, \\n\\tmatthew.dawson@enron.com\\nMime-Version: 1.0\\nContent-Type: text/plain; charset=us-ascii\\nContent-Transfer-Encoding: 7bit\\nBcc: larry.gagliardi@enron.com, denis.o'connell@enron.com, \\n\\tmatthew.dawson@enron.com\\nX-From: Tana Jones\\nX-To: Bob Bowen, Laurel Adams, Andrea R Guillen, Larry Joe Hunter, Gordon Heaney, Janie Aguayo, Derek Bailey, Diane Anderson, Kevin Meredith, Scott Tackett, Celeste Cisneros, Tiffany Williams, Kim S Theriot, Dianne Seib, Melissa Ann Murphy, William S Bradford, Debbie R Brackett, Tanya Rohauer, Brant Reves, Tracy Ngo, Lesli Campbell, Veronica Espinoza, Paul Radous, Wendi LeBrocq, Russell Diamond, Tom Moran, Edward Sacks, Nidia Mendoza, Bradley Diebner, Wendy Conwell, Darren Vanek, Rudwell Johnson, Brent Hendry, Sara Shackleton, Mark Taylor, Carol St Clair, Susan Bailey, Mary Cook, Samantha Boyd, Robert Bruce, Stephanie Panus, Frank Sayre, Cheryl Nelson, Francisco Pinto Leite, Marilyn Colbert, Diane Ellstrom, Lynn E Shivers, Bill D Hare, Leslie Reeves, Jason Moore, Dianne Seib, Samuel Schott, Anthony Campos, Bernice Rodriguez, Mary G Gosnell, Dale Neuner, Karen Lambert, Frank L Davis, Carrie Southard, Amber Ebow, Adnan Patel, Melissa Ann Murphy, Stacey Richardson, Lisa Lees, Georgi Landau, Cheryl Johnson\\nX-cc: Larry Gagliardi, Denis O'Connell, Matthew Dawson\\nX-bcc: \\nX-Folder: \\\\Tanya_Jones_June2001\\\\Notes Folders\\\\Sent\\nX-Origin: JONES-T\\nX-FileName: tjones.nsf\\n\\nWe have received the following executed Master Agreement:\\n\\nType of Contract: ISDA Master Agreement (Multicurrency-Cross Border)\\n\\nEffective Date:  December 29, 2000\\n\\nEnron Entity:  Enron North America Corp.\\n\\nCounterparty:  Deutsche Bank AG\\n\\nTransactions Covered: Approved for all products, including FX \\n          \\nConfirming Entity: Deutsche Bank AG\\n\\nCalculation Agent: Deutsche Bank AG\\n\\nGoverning Law:  New York\\n\\nApproved Branches For\\nDeutsche Bank:  Brussels, Frankfurt, London, New York, Paris, Singapore, \\nSydney, Tokyo\\n\\nAgency Relationship: Deutsche Bank AG may act as Agent for Deutsche Bank \\nSecurities, if  they are specified as acting in such agency capacity in a \\nConfirmation.\\n\\nPAYMENT NETTING:   Cross transaction payment netting only applies to \\nCommodity Transactions.  There is no payment netting for non-commodity \\ntransactions.  \")"
      ]
     },
     "execution_count": 17,
     "metadata": {},
     "output_type": "execute_result"
    }
   ],
   "source": [
    "emailRDD.first()"
   ]
  },
  {
   "cell_type": "code",
   "execution_count": null,
   "id": "ae0b148c",
   "metadata": {
    "deletable": false,
    "editable": false,
    "nbgrader": {
     "cell_type": "code",
     "checksum": "d520b4750323b79105c7859ec15d6c67",
     "grade": true,
     "grade_id": "cell-9f76a3648ae0bde3",
     "locked": true,
     "points": 0.5,
     "schema_version": 3,
     "solution": false,
     "task": false
    }
   },
   "outputs": [],
   "source": []
  },
  {
   "cell_type": "code",
   "execution_count": 18,
   "id": "4d25aa70",
   "metadata": {},
   "outputs": [
    {
     "data": {
      "text/plain": [
       "Row(Date='Thu, 1 Feb 2001 08:00:00 -0800 (PST)', From=['tana.jones@enron.com'], To=['larry.hunter@enron.com', 'tanya.rohauer@enron.com', 'kim.theriot@enron.com', 'mary.cook@enron.com', 'darren.vanek@enron.com', 'frank.sayre@enron.com', 'kevin.meredith@enron.com', 'robert.bruce@enron.com', 'nidia.mendoza@enron.com', 'tom.moran@enron.com', 'susan.bailey@enron.com', 'bob.bowen@enron.com', 'cheryl.johnson@enron.com', 'frank.davis@enron.com', 'bradley.diebner@enron.com', 'stephanie.panus@enron.com', 'derek.bailey@enron.com', 'paul.radous@enron.com', 'francisco.leite@enron.com', 'adnan.patel@enron.com', 'bernice.rodriguez@enron.com', 'lisa.lees@enron.com', 'cheryl.nelson@enron.com', 'scott.tackett@enron.com', 'edward.sacks@enron.com', 'debbie.brackett@enron.com', 'sara.shackleton@enron.com', 'lynn.shivers@enron.com', 'dianne.seib@enron.com', 'samuel.schott@enron.com', 'georgi.landau@enron.com', 'tiffany.williams@enron.com', 'anthony.campos@enron.com', 'mary.gosnell@enron.com', 'carrie.southard@enron.com', 'wendi.lebrocq@enron.com', 'william.bradford@enron.com', 'celeste.cisneros@enron.com', 'veronica.espinoza@enron.com', 'wendy.conwell@enron.com', 'mark.taylor@enron.com', 'melissa.murphy@enron.com', 'brent.hendry@enron.com', 'rudwell.johnson@enron.com', 'tracy.ngo@enron.com', 'diane.ellstrom@enron.com', 'jason.moore@enron.com', 'gordon.heaney@enron.com', 'diane.anderson@enron.com', 'stacey.richardson@enron.com', 'andrea.guillen@enron.com', 'karen.lambert@enron.com', 'samantha.boyd@enron.com', 'bill.hare@enron.com', 'laurel.adams@enron.com', 'leslie.reeves@enron.com', 'amber.ebow@enron.com', 'dale.neuner@enron.com', 'russell.diamond@enron.com', 'carol.clair@enron.com', 'marilyn.colbert@enron.com', 'janie.aguayo@enron.com', 'brant.reves@enron.com', 'lesli.campbell@enron.com'], Subject='Deutsche Bank AG', CC=[\"denis.o'connell@enron.com\", 'larry.gagliardi@enron.com', 'matthew.dawson@enron.com'], Content='We have received the following executed Master Agreement:\\n\\nType of Contract: ISDA Master Agreement (Multicurrency-Cross Border)\\n\\nEffective Date:  December 29, 2000\\n\\nEnron Entity:  Enron North America Corp.\\n\\nCounterparty:  Deutsche Bank AG\\n\\nTransactions Covered: Approved for all products, including FX \\n          \\nConfirming Entity: Deutsche Bank AG\\n\\nCalculation Agent: Deutsche Bank AG\\n\\nGoverning Law:  New York\\n\\nApproved Branches For\\nDeutsche Bank:  Brussels, Frankfurt, London, New York, Paris, Singapore, \\nSydney, Tokyo\\n\\nAgency Relationship: Deutsche Bank AG may act as Agent for Deutsche Bank \\nSecurities, if  they are specified as acting in such agency capacity in a \\nConfirmation.\\n\\nPAYMENT NETTING:   Cross transaction payment netting only applies to \\nCommodity Transactions.  There is no payment netting for non-commodity \\ntransactions.  ')"
      ]
     },
     "execution_count": 18,
     "metadata": {},
     "output_type": "execute_result"
    }
   ],
   "source": [
    "import email\n",
    "from typing import List, Optional\n",
    "from pyspark.sql.types import Row\n",
    "\n",
    "def splitEmailAddresses(emailString: str) -> List[Optional[str]]:\n",
    "    '''\n",
    "    The function splits a comma-separated string of email addresses into a unique list.\n",
    "    \n",
    "    Args:\n",
    "        emailString: A string containing email addresses separated by commas.\n",
    "        \n",
    "    Returns:\n",
    "        A list of unique email addresses.\n",
    "    '''\n",
    "    if emailString:\n",
    "        addresses = emailString.split(',')\n",
    "        uniqueAddresses = list(frozenset(map(lambda x: x.strip(), addresses)))\n",
    "        return uniqueAddresses\n",
    "    return []\n",
    "\n",
    "def extractEmailDetailsFromRawText(rawEmail: str) -> Row:\n",
    "    '''\n",
    "    The function extracts relevant details from a raw email message string.\n",
    "    \n",
    "    Args:\n",
    "        rawEmail: A string representing the raw email message.\n",
    "        \n",
    "    Returns:\n",
    "        A Row object containing the extracted email details.\n",
    "    '''\n",
    "    emailMessage = email.message_from_string(rawEmail)\n",
    "    emailContentParts = []\n",
    "    for part in emailMessage.walk():\n",
    "        if part.get_content_type() == 'text/plain':\n",
    "            emailContentParts.append(part.get_payload())\n",
    "\n",
    "    emailContent = ''.join(emailContentParts)\n",
    "\n",
    "    fromAddresses = splitEmailAddresses(emailMessage.get(\"From\"))\n",
    "    toAddresses = splitEmailAddresses(emailMessage.get(\"To\"))\n",
    "    ccEmail = splitEmailAddresses(emailMessage.get(\"Cc\"))\n",
    "    return Row(\n",
    "        Date=emailMessage.get(\"Date\"),\n",
    "        From=fromAddresses, \n",
    "        To=toAddresses, \n",
    "        Subject=emailMessage.get(\"Subject\"), \n",
    "        CC=ccEmail, \n",
    "        Content=emailContent\n",
    "    )\n",
    "\n",
    "# Extract structured email details from the first email message\n",
    "firstEmailData = data.first()\n",
    "structuredEmail = extractEmailDetailsFromRawText(firstEmailData.message)\n",
    "structuredEmail"
   ]
  },
  {
   "cell_type": "code",
   "execution_count": 19,
   "id": "dd857a36-ddcd-45ba-b186-93a80e917ce0",
   "metadata": {},
   "outputs": [
    {
     "data": {
      "text/plain": [
       "Row(file='jones-t/sent/5567.', message=\"Message-ID: <11629296.1075847544895.JavaMail.evans@thyme>\\nDate: Thu, 1 Feb 2001 08:00:00 -0800 (PST)\\nFrom: tana.jones@enron.com\\nTo: bob.bowen@enron.com, laurel.adams@enron.com, andrea.guillen@enron.com, \\n\\tlarry.hunter@enron.com, gordon.heaney@enron.com, \\n\\tjanie.aguayo@enron.com, derek.bailey@enron.com, \\n\\tdiane.anderson@enron.com, kevin.meredith@enron.com, \\n\\tscott.tackett@enron.com, celeste.cisneros@enron.com, \\n\\ttiffany.williams@enron.com, kim.theriot@enron.com, \\n\\tdianne.seib@enron.com, melissa.murphy@enron.com, \\n\\twilliam.bradford@enron.com, debbie.brackett@enron.com, \\n\\ttanya.rohauer@enron.com, brant.reves@enron.com, tracy.ngo@enron.com, \\n\\tlesli.campbell@enron.com, veronica.espinoza@enron.com, \\n\\tpaul.radous@enron.com, wendi.lebrocq@enron.com, \\n\\trussell.diamond@enron.com, tom.moran@enron.com, \\n\\tedward.sacks@enron.com, nidia.mendoza@enron.com, \\n\\tbradley.diebner@enron.com, wendy.conwell@enron.com, \\n\\tdarren.vanek@enron.com, rudwell.johnson@enron.com, \\n\\tbrent.hendry@enron.com, sara.shackleton@enron.com, \\n\\tmark.taylor@enron.com, carol.clair@enron.com, susan.bailey@enron.com, \\n\\tmary.cook@enron.com, samantha.boyd@enron.com, robert.bruce@enron.com, \\n\\tstephanie.panus@enron.com, frank.sayre@enron.com, \\n\\tcheryl.nelson@enron.com, francisco.leite@enron.com, \\n\\tmarilyn.colbert@enron.com, diane.ellstrom@enron.com, \\n\\tlynn.shivers@enron.com, bill.hare@enron.com, leslie.reeves@enron.com, \\n\\tjason.moore@enron.com, dianne.seib@enron.com, \\n\\tsamuel.schott@enron.com, anthony.campos@enron.com, \\n\\tbernice.rodriguez@enron.com, mary.gosnell@enron.com, \\n\\tdale.neuner@enron.com, karen.lambert@enron.com, \\n\\tfrank.davis@enron.com, carrie.southard@enron.com, \\n\\tamber.ebow@enron.com, adnan.patel@enron.com, \\n\\tmelissa.murphy@enron.com, stacey.richardson@enron.com, \\n\\tlisa.lees@enron.com, georgi.landau@enron.com, \\n\\tcheryl.johnson@enron.com\\nSubject: Deutsche Bank AG\\nCc: larry.gagliardi@enron.com, denis.o'connell@enron.com, \\n\\tmatthew.dawson@enron.com\\nMime-Version: 1.0\\nContent-Type: text/plain; charset=us-ascii\\nContent-Transfer-Encoding: 7bit\\nBcc: larry.gagliardi@enron.com, denis.o'connell@enron.com, \\n\\tmatthew.dawson@enron.com\\nX-From: Tana Jones\\nX-To: Bob Bowen, Laurel Adams, Andrea R Guillen, Larry Joe Hunter, Gordon Heaney, Janie Aguayo, Derek Bailey, Diane Anderson, Kevin Meredith, Scott Tackett, Celeste Cisneros, Tiffany Williams, Kim S Theriot, Dianne Seib, Melissa Ann Murphy, William S Bradford, Debbie R Brackett, Tanya Rohauer, Brant Reves, Tracy Ngo, Lesli Campbell, Veronica Espinoza, Paul Radous, Wendi LeBrocq, Russell Diamond, Tom Moran, Edward Sacks, Nidia Mendoza, Bradley Diebner, Wendy Conwell, Darren Vanek, Rudwell Johnson, Brent Hendry, Sara Shackleton, Mark Taylor, Carol St Clair, Susan Bailey, Mary Cook, Samantha Boyd, Robert Bruce, Stephanie Panus, Frank Sayre, Cheryl Nelson, Francisco Pinto Leite, Marilyn Colbert, Diane Ellstrom, Lynn E Shivers, Bill D Hare, Leslie Reeves, Jason Moore, Dianne Seib, Samuel Schott, Anthony Campos, Bernice Rodriguez, Mary G Gosnell, Dale Neuner, Karen Lambert, Frank L Davis, Carrie Southard, Amber Ebow, Adnan Patel, Melissa Ann Murphy, Stacey Richardson, Lisa Lees, Georgi Landau, Cheryl Johnson\\nX-cc: Larry Gagliardi, Denis O'Connell, Matthew Dawson\\nX-bcc: \\nX-Folder: \\\\Tanya_Jones_June2001\\\\Notes Folders\\\\Sent\\nX-Origin: JONES-T\\nX-FileName: tjones.nsf\\n\\nWe have received the following executed Master Agreement:\\n\\nType of Contract: ISDA Master Agreement (Multicurrency-Cross Border)\\n\\nEffective Date:  December 29, 2000\\n\\nEnron Entity:  Enron North America Corp.\\n\\nCounterparty:  Deutsche Bank AG\\n\\nTransactions Covered: Approved for all products, including FX \\n          \\nConfirming Entity: Deutsche Bank AG\\n\\nCalculation Agent: Deutsche Bank AG\\n\\nGoverning Law:  New York\\n\\nApproved Branches For\\nDeutsche Bank:  Brussels, Frankfurt, London, New York, Paris, Singapore, \\nSydney, Tokyo\\n\\nAgency Relationship: Deutsche Bank AG may act as Agent for Deutsche Bank \\nSecurities, if  they are specified as acting in such agency capacity in a \\nConfirmation.\\n\\nPAYMENT NETTING:   Cross transaction payment netting only applies to \\nCommodity Transactions.  There is no payment netting for non-commodity \\ntransactions.  \")"
      ]
     },
     "execution_count": 19,
     "metadata": {},
     "output_type": "execute_result"
    }
   ],
   "source": [
    "emailRDD.first()"
   ]
  },
  {
   "cell_type": "code",
   "execution_count": 20,
   "id": "834aea31",
   "metadata": {
    "deletable": false,
    "nbgrader": {
     "cell_type": "code",
     "checksum": "522261678145e4ec66e0337ab779fc12",
     "grade": false,
     "grade_id": "cell-f35baf56fceec04a",
     "locked": false,
     "schema_version": 3,
     "solution": true,
     "task": false
    }
   },
   "outputs": [],
   "source": [
    "#0.5đ\n",
    "def createStructuredEmailRDD(emailRDD: RDD[Row]) -> RDD[Row]:\n",
    "    '''\n",
    "    The function takes an RDD of email messages and converts it into a new RDD containing structured email details.\n",
    "    \n",
    "    Args:\n",
    "        emailRDD: An RDD where each Row contains an email message in raw text format.\n",
    "        \n",
    "    Returns:\n",
    "        A new RDD where each element is a Row with structured email details such as Date, From, To, Subject, CC, and Content.\n",
    "    '''\n",
    "    structuredEmailRDD = None\n",
    "    # YOUR CODE HERE\n",
    "    structuredEmailRDD = emailRDD.map(lambda x: extractEmailDetailsFromRawText(x.message))\n",
    "    return structuredEmailRDD"
   ]
  },
  {
   "cell_type": "code",
   "execution_count": 21,
   "id": "7bfa99da",
   "metadata": {},
   "outputs": [],
   "source": [
    "structuredEmailRDD = createStructuredEmailRDD(emailRDD)\n",
    "assert isinstance(structuredEmailRDD, RDD), \"createStructuredEmailRDD() doesn't return an RDD\"\n",
    "assert isinstance(structuredEmailRDD.first(), Row), \"createStructuredEmailRDD() elements are not of type Row\""
   ]
  },
  {
   "cell_type": "code",
   "execution_count": 22,
   "id": "5a588859",
   "metadata": {
    "deletable": false,
    "editable": false,
    "nbgrader": {
     "cell_type": "code",
     "checksum": "3540ccf5b46ad49cd07449048e2f90e8",
     "grade": true,
     "grade_id": "cell-901c811ecf49faae",
     "locked": true,
     "points": 0.5,
     "schema_version": 3,
     "solution": false,
     "task": false
    }
   },
   "outputs": [
    {
     "data": {
      "text/plain": [
       "[Row(Date='Thu, 1 Feb 2001 08:00:00 -0800 (PST)', From=['tana.jones@enron.com'], To=['carol.clair@enron.com', 'russell.diamond@enron.com', 'derek.bailey@enron.com', 'cheryl.nelson@enron.com', 'adnan.patel@enron.com', 'tom.moran@enron.com', 'darren.vanek@enron.com', 'diane.ellstrom@enron.com', 'sara.shackleton@enron.com', 'william.bradford@enron.com', 'edward.sacks@enron.com', 'frank.davis@enron.com', 'nidia.mendoza@enron.com', 'bob.bowen@enron.com', 'andrea.guillen@enron.com', 'kevin.meredith@enron.com', 'celeste.cisneros@enron.com', 'carrie.southard@enron.com', 'diane.anderson@enron.com', 'melissa.murphy@enron.com', 'francisco.leite@enron.com', 'mary.gosnell@enron.com', 'wendi.lebrocq@enron.com', 'mark.taylor@enron.com', 'kim.theriot@enron.com', 'stacey.richardson@enron.com', 'gordon.heaney@enron.com', 'dianne.seib@enron.com', 'dale.neuner@enron.com', 'debbie.brackett@enron.com', 'georgi.landau@enron.com', 'cheryl.johnson@enron.com', 'susan.bailey@enron.com', 'mary.cook@enron.com', 'bradley.diebner@enron.com', 'larry.hunter@enron.com', 'rudwell.johnson@enron.com', 'frank.sayre@enron.com', 'leslie.reeves@enron.com', 'tanya.rohauer@enron.com', 'laurel.adams@enron.com', 'bill.hare@enron.com', 'brent.hendry@enron.com', 'paul.radous@enron.com', 'tracy.ngo@enron.com', 'amber.ebow@enron.com', 'anthony.campos@enron.com', 'wendy.conwell@enron.com', 'samuel.schott@enron.com', 'karen.lambert@enron.com', 'scott.tackett@enron.com', 'samantha.boyd@enron.com', 'marilyn.colbert@enron.com', 'veronica.espinoza@enron.com', 'lisa.lees@enron.com', 'robert.bruce@enron.com', 'stephanie.panus@enron.com', 'lynn.shivers@enron.com', 'bernice.rodriguez@enron.com', 'janie.aguayo@enron.com', 'lesli.campbell@enron.com', 'brant.reves@enron.com', 'jason.moore@enron.com', 'tiffany.williams@enron.com'], Subject='Deutsche Bank AG', CC=['larry.gagliardi@enron.com', 'matthew.dawson@enron.com', \"denis.o'connell@enron.com\"], Content='We have received the following executed Master Agreement:\\n\\nType of Contract: ISDA Master Agreement (Multicurrency-Cross Border)\\n\\nEffective Date:  December 29, 2000\\n\\nEnron Entity:  Enron North America Corp.\\n\\nCounterparty:  Deutsche Bank AG\\n\\nTransactions Covered: Approved for all products, including FX \\n          \\nConfirming Entity: Deutsche Bank AG\\n\\nCalculation Agent: Deutsche Bank AG\\n\\nGoverning Law:  New York\\n\\nApproved Branches For\\nDeutsche Bank:  Brussels, Frankfurt, London, New York, Paris, Singapore, \\nSydney, Tokyo\\n\\nAgency Relationship: Deutsche Bank AG may act as Agent for Deutsche Bank \\nSecurities, if  they are specified as acting in such agency capacity in a \\nConfirmation.\\n\\nPAYMENT NETTING:   Cross transaction payment netting only applies to \\nCommodity Transactions.  There is no payment netting for non-commodity \\ntransactions.  ')]"
      ]
     },
     "execution_count": 22,
     "metadata": {},
     "output_type": "execute_result"
    }
   ],
   "source": [
    "structuredEmailRDD.take(1)  # Lấy 10 phần tử đầu tiên"
   ]
  },
  {
   "cell_type": "code",
   "execution_count": 23,
   "id": "de955d05-044b-4b8b-a204-e7e40dbcd3e9",
   "metadata": {},
   "outputs": [
    {
     "data": {
      "text/plain": [
       "['larry.gagliardi@enron.com',\n",
       " 'matthew.dawson@enron.com',\n",
       " \"denis.o'connell@enron.com\"]"
      ]
     },
     "execution_count": 23,
     "metadata": {},
     "output_type": "execute_result"
    }
   ],
   "source": [
    "structuredEmailRDD.first().CC"
   ]
  },
  {
   "cell_type": "code",
   "execution_count": 24,
   "id": "b4023b22",
   "metadata": {
    "deletable": false,
    "nbgrader": {
     "cell_type": "code",
     "checksum": "346b121a4c8270f901171db41144576e",
     "grade": false,
     "grade_id": "cell-30b54476aa422f9f",
     "locked": false,
     "schema_version": 3,
     "solution": true,
     "task": false
    }
   },
   "outputs": [],
   "source": [
    "#1.\n",
    "def countNumberEmail(structuredEmailRDD: RDD[Row], k: int)->int:\n",
    "    '''\n",
    "    The function counts the number of emails with more than `k` email addresses in the 'To' field.\n",
    "    \n",
    "    Args:\n",
    "    - structuredEmailRDD: RDD of Row objects, each containing an email's structured data.\n",
    "    - k: The threshold for the number of emails in the 'To' field.\n",
    "    \n",
    "    Returns:\n",
    "    - int: The count of emails with more than `k` email addresses in the 'To' field.\n",
    "    '''\n",
    "    count = -1\n",
    "    # YOUR CODE HERE\n",
    "    # count = 0\n",
    "    # for element in structuredEmailRDD.collect():\n",
    "    #     if len(element.To) > k :\n",
    "    #         count+=1\n",
    "    count = structuredEmailRDD.filter(lambda row : len(row.To) > k).count()\n",
    "    \n",
    "    return count"
   ]
  },
  {
   "cell_type": "code",
   "execution_count": 25,
   "id": "60e08bd8",
   "metadata": {},
   "outputs": [
    {
     "data": {
      "text/plain": [
       "647"
      ]
     },
     "execution_count": 25,
     "metadata": {},
     "output_type": "execute_result"
    }
   ],
   "source": [
    "countNumberEmail(structuredEmailRDD,40)"
   ]
  },
  {
   "cell_type": "code",
   "execution_count": null,
   "id": "45c7c1b0",
   "metadata": {
    "deletable": false,
    "editable": false,
    "nbgrader": {
     "cell_type": "code",
     "checksum": "1fa8e1524660b1801188fe0d59f05c59",
     "grade": true,
     "grade_id": "cell-4da37f7613203cac",
     "locked": true,
     "points": 1,
     "schema_version": 3,
     "solution": false,
     "task": false
    }
   },
   "outputs": [],
   "source": []
  },
  {
   "cell_type": "code",
   "execution_count": 26,
   "id": "a927fbb7",
   "metadata": {
    "deletable": false,
    "nbgrader": {
     "cell_type": "code",
     "checksum": "27ee27aaa32a56bc3b7acb31e4851280",
     "grade": false,
     "grade_id": "cell-d02661e91acdb7ec",
     "locked": false,
     "schema_version": 3,
     "solution": true,
     "task": false
    }
   },
   "outputs": [],
   "source": [
    "# 1đ\n",
    "def countUniqueEmailDomains(structuredEmailRDD: RDD[Row], k) -> int:\n",
    "    '''\n",
    "    This function counts the number of unique email domains in the \"CC\" field using `map` and `reduce`.\n",
    "    \n",
    "    Args:\n",
    "    - structuredEmailRDD: An RDD containing Row objects, each representing an email's structured data.\n",
    "    \n",
    "    Returns:\n",
    "    - dict: A dictionary showing the count of emails from each unique domain in the \"CC\" field.\n",
    "      Example:\n",
    "        If k = 3, the result might look like:\n",
    "        {\n",
    "          'enron.com': 16452,\n",
    "          'aol.com': 122,\n",
    "          'hotmail.com': 101\n",
    "        }\n",
    "    '''\n",
    "    results = {}\n",
    "    # YOUR CODE HERE\n",
    "    # list_cc = []\n",
    "    # for element in structuredEmailRDD.collect():\n",
    "    #     list_cc += element.CC\n",
    "    ccRDD = structuredEmailRDD.flatMap(lambda row : row.CC) \n",
    "\n",
    "    # list_cc = sc.sparkContext.parallelize(list_cc)\n",
    "    ccRDD = ccRDD.map(lambda x: (x.split(\"@\")[-1],1))\n",
    "    domainCountRDD = ccRDD.reduceByKey(lambda a,b: a+b)\n",
    "    \n",
    "    # for element in domainCountRDD.collect():\n",
    "    #     results[element[0]] = element[1]\n",
    "    domainCountRDD = domainCountRDD.sortBy(lambda x : x[1],ascending=False)\n",
    "    results = domainCountRDD.collectAsMap()\n",
    "    # results = dict(sorted(results.items(), key=lambda item: item[1], reverse=True)[:k])\n",
    "    results = dict(list(results.items())[:k])\n",
    "    return results\n",
    "    "
   ]
  },
  {
   "cell_type": "code",
   "execution_count": 27,
   "id": "c1807c8c",
   "metadata": {},
   "outputs": [
    {
     "data": {
      "text/plain": [
       "{'enron.com': 18864,\n",
       " 'aol.com': 92,\n",
       " 'hotmail.com': 79,\n",
       " 'duke-energy.com': 68,\n",
       " 'haas.berkeley.edu': 50,\n",
       " 'caiso.com': 47,\n",
       " 'enron.com>': 44,\n",
       " 'yahoo.com': 44,\n",
       " 'iepa.com': 37,\n",
       " 'akllp.com': 35}"
      ]
     },
     "execution_count": 27,
     "metadata": {},
     "output_type": "execute_result"
    }
   ],
   "source": [
    "countUniqueEmailDomains(structuredEmailRDD, 10)"
   ]
  },
  {
   "cell_type": "code",
   "execution_count": null,
   "id": "49b510ee",
   "metadata": {
    "deletable": false,
    "editable": false,
    "nbgrader": {
     "cell_type": "code",
     "checksum": "0d7ebe4975d33e65afe1522df59e7464",
     "grade": true,
     "grade_id": "cell-630afb428dfa2ea0",
     "locked": true,
     "points": 1,
     "schema_version": 3,
     "solution": false,
     "task": false
    }
   },
   "outputs": [],
   "source": []
  },
  {
   "cell_type": "code",
   "execution_count": 28,
   "id": "48c5504f",
   "metadata": {
    "deletable": false,
    "nbgrader": {
     "cell_type": "code",
     "checksum": "a0ddca47e9d9f4fddd92ebe00e098df0",
     "grade": false,
     "grade_id": "cell-99c1d7a5f29cd658",
     "locked": false,
     "schema_version": 3,
     "solution": true,
     "task": false
    }
   },
   "outputs": [],
   "source": [
    "# 0.5đ ;\n",
    "def countEmailsBySubject(structuredEmailRDD: RDD[Row], subjectContent: str) -> int:\n",
    "    '''\n",
    "    The function count num emails the dataset to the subject have included \"subjectContent\", case insensitive\n",
    "\n",
    "    Args:\n",
    "    - structuredEmailRDD: RDD of Row objects containing an email's structured data.\n",
    "    - subSubject: The content of the subject to filter by.\n",
    "\n",
    "    Returns:\n",
    "    - numEmails: Subject include content have substring subjectContent\n",
    "    '''\n",
    "    numEmails =  -1\n",
    "    # YOUR CODE HERE\n",
    "    # numEmails = structuredEmailRDD.filter(lambda x: x.Subject.strip() != '' and x.Subject.strip() != '(no subject)').count()\n",
    "    numEmails = structuredEmailRDD.filter(lambda x: subjectContent.strip().lower() in x.Subject.strip().lower() ).count()\n",
    "    return numEmails"
   ]
  },
  {
   "cell_type": "code",
   "execution_count": 29,
   "id": "347917e0-daec-4cdf-8afe-d11cc36b2ac0",
   "metadata": {},
   "outputs": [
    {
     "data": {
      "text/plain": [
       "dict_keys(['Date', 'From', 'To', 'Subject', 'CC', 'Content'])"
      ]
     },
     "execution_count": 29,
     "metadata": {},
     "output_type": "execute_result"
    }
   ],
   "source": [
    "structuredEmailRDD.first().asDict().keys()"
   ]
  },
  {
   "cell_type": "code",
   "execution_count": 30,
   "id": "e1a833b3-ad71-42c7-a876-000c2b9a5686",
   "metadata": {},
   "outputs": [
    {
     "data": {
      "text/plain": [
       "'Deutsche Bank AG'"
      ]
     },
     "execution_count": 30,
     "metadata": {},
     "output_type": "execute_result"
    }
   ],
   "source": [
    "structuredEmailRDD.first().Subject"
   ]
  },
  {
   "cell_type": "code",
   "execution_count": 31,
   "id": "6c3c9a3c-2bac-44b1-9a00-3d38bb9f7556",
   "metadata": {},
   "outputs": [],
   "source": [
    "df_struct = structuredEmailRDD.toDF()"
   ]
  },
  {
   "cell_type": "code",
   "execution_count": 32,
   "id": "ea0b1f58-6ac4-4c6c-9c31-8a4bd7701949",
   "metadata": {},
   "outputs": [
    {
     "name": "stdout",
     "output_type": "stream",
     "text": [
      "+--------------------+-----+\n",
      "|             Subject|count|\n",
      "+--------------------+-----+\n",
      "|                    |  760|\n",
      "|                 Re:|  257|\n",
      "|                 RE:|  239|\n",
      "|Demand Ken Lay Do...|   45|\n",
      "|Schedule Crawler:...|   45|\n",
      "|Schedule Crawler:...|   43|\n",
      "|                 FW:|   39|\n",
      "|      Enron Mentions|   24|\n",
      "|       Energy Issues|   20|\n",
      "|        (no subject)|   19|\n",
      "|Williams Energy N...|   18|\n",
      "|Organizational An...|   16|\n",
      "|  EnTouch Newsletter|   15|\n",
      "|RIGZONE Industry ...|   15|\n",
      "|Organization Anno...|   13|\n",
      "|Organizational Ch...|   11|\n",
      "|WARNING:  Your ma...|   11|\n",
      "|Mid-Year 2001 Per...|   11|\n",
      "|       Power Indices|   10|\n",
      "|      Attached Files|   10|\n",
      "+--------------------+-----+\n",
      "only showing top 20 rows\n",
      "\n"
     ]
    }
   ],
   "source": [
    "df_struct.groupBy(\"Subject\").count().orderBy(\"count\",ascending = False).show()"
   ]
  },
  {
   "cell_type": "code",
   "execution_count": 33,
   "id": "17d6f4b6",
   "metadata": {},
   "outputs": [
    {
     "data": {
      "text/plain": [
       "78"
      ]
     },
     "execution_count": 33,
     "metadata": {},
     "output_type": "execute_result"
    }
   ],
   "source": [
    "countEmailsBySubject(structuredEmailRDD, \"bank\")"
   ]
  },
  {
   "cell_type": "code",
   "execution_count": null,
   "id": "b5b3f5e4",
   "metadata": {
    "deletable": false,
    "editable": false,
    "nbgrader": {
     "cell_type": "code",
     "checksum": "a558eea4f77835cdb67bbcf2bac20487",
     "grade": true,
     "grade_id": "cell-abd5680f3d099fdd",
     "locked": true,
     "points": 0.5,
     "schema_version": 3,
     "solution": false,
     "task": false
    }
   },
   "outputs": [],
   "source": []
  },
  {
   "cell_type": "code",
   "execution_count": 34,
   "id": "52477f2b",
   "metadata": {
    "deletable": false,
    "nbgrader": {
     "cell_type": "code",
     "checksum": "1ef9ae16a8c79bf13d799947e7696002",
     "grade": false,
     "grade_id": "cell-e9d7845d1119de1d",
     "locked": false,
     "schema_version": 3,
     "solution": true,
     "task": false
    }
   },
   "outputs": [],
   "source": [
    "# 1.5d\n",
    "def getTopKFrequentWordsInContentBySender(structuredEmailRDD: RDD[Row], sender: str, k: int) -> dict:\n",
    "    '''\n",
    "    This function filtered emails in the dataset sent by a specific sender's email,\n",
    "    and then returns the top k most frequent words found in the content of those filtered emails.\n",
    "\n",
    "    Args:\n",
    "    - structuredEmailRDD: RDD of Row objects, where each Row represents an email with structured data, such as subject and content.\n",
    "    - sender: sender's email which needs to count.\n",
    "    - k: The number of most frequent words to return.\n",
    "\n",
    "    Returns:\n",
    "    - topKWordsDict: A dictionary containing the top k most frequent words found in the content of filtered emails.\n",
    "                     The keys are the words, and the values are their frequencies, representing how often they appear in the content of the filtered emails.\n",
    "                    example:\n",
    "                    {'to': 12,\n",
    "                     'the': 9,\n",
    "                     'your': 8,\n",
    "                     'a': 5,\n",
    "                     'is': 4,\n",
    "                     'survey': 4,\n",
    "                     'and': 4,\n",
    "                     'you': 4,\n",
    "                     'of': 3,\n",
    "                     'very': 3}\n",
    "    '''\n",
    "    topKWordsDict = {}\n",
    "    # YOUR CODE HERE\n",
    "    senderRDD = structuredEmailRDD.filter(lambda row : row.From[0].strip() == sender)\n",
    "    content_senderRDD = senderRDD.flatMap(lambda row : row.Content.split())\n",
    "    content_senderRDD = content_senderRDD.filter(lambda x : x != '')\n",
    "\n",
    "    wordPairs = content_senderRDD.map(lambda x : (x,1))\n",
    "    wordcounts = wordPairs.reduceByKey(lambda a,b : a+b)\n",
    "\n",
    "    dictWordCounts = wordcounts.sortBy(lambda x: x[1], ascending=False).collectAsMap()\n",
    "    topKWordsDict = dict(list(dictWordCounts.items())[:k])\n",
    "    # dictWordCounts = wordcounts.collectAsMap()\n",
    "    # topKWordsDict = dict(sorted(dictWordCounts.items(),key=lambda item: item[1], reverse=True)[:k])\n",
    "    \n",
    "    # raise NotImplementedError()\n",
    "    return topKWordsDict"
   ]
  },
  {
   "cell_type": "code",
   "execution_count": 35,
   "id": "7a216c03-cb42-4c8a-9a3f-a9b38e369a65",
   "metadata": {},
   "outputs": [],
   "source": [
    "# structuredEmailRDD.first().From[0],structuredEmailRDD.first().Content"
   ]
  },
  {
   "cell_type": "code",
   "execution_count": 36,
   "id": "5ec4c610",
   "metadata": {},
   "outputs": [
    {
     "data": {
      "text/plain": [
       "{'the': 1388,\n",
       " 'to': 953,\n",
       " 'and': 697,\n",
       " 'of': 637,\n",
       " 'I': 485,\n",
       " 'a': 484,\n",
       " 'on': 439,\n",
       " 'for': 424,\n",
       " 'you': 409,\n",
       " 'Tana': 388}"
      ]
     },
     "execution_count": 36,
     "metadata": {},
     "output_type": "execute_result"
    }
   ],
   "source": [
    "getTopKFrequentWordsInContentBySender(structuredEmailRDD, \"tana.jones@enron.com\", 10)"
   ]
  },
  {
   "cell_type": "code",
   "execution_count": null,
   "id": "f187571a",
   "metadata": {
    "deletable": false,
    "editable": false,
    "nbgrader": {
     "cell_type": "code",
     "checksum": "50ca882b92171b83f30db3a238e7eeff",
     "grade": true,
     "grade_id": "cell-d19a92dc491afed1",
     "locked": true,
     "points": 1.5,
     "schema_version": 3,
     "solution": false,
     "task": false
    }
   },
   "outputs": [],
   "source": []
  },
  {
   "cell_type": "code",
   "execution_count": 37,
   "id": "7f27e6eb-1391-4208-b55c-c08893e1d3bf",
   "metadata": {},
   "outputs": [
    {
     "name": "stdout",
     "output_type": "stream",
     "text": [
      "+--------------------+--------------------+--------------------+--------------------+--------------------+--------------------+\n",
      "|                Date|                From|                  To|             Subject|                  CC|             Content|\n",
      "+--------------------+--------------------+--------------------+--------------------+--------------------+--------------------+\n",
      "|Thu, 1 Feb 2001 0...|[tana.jones@enron...|[carol.clair@enro...|    Deutsche Bank AG|[larry.gagliardi@...|We have received ...|\n",
      "|Wed, 19 Jul 2000 ...|[patrick.cagney@e...|                  []|Report Council Mt...|[michael.sullivan...|Reporting Council...|\n",
      "|Fri, 3 Mar 2000 0...|[jenny.helton@enr...|[david.forster@en...|SO2 Enron EAuctio...|                  []|As promised by no...|\n",
      "|Tue, 13 Nov 2001 ...|[mailing1@mail.mo...|[lavorato@enron.com]|Increase Your Inc...|                  []|Master the secret...|\n",
      "|Wed, 29 Mar 2000 ...|[pat.clynes@enron...|[kim.melodick@enr...| Re: resume attached|[rita.wynne@enron...|Liz is an MIT gra...|\n",
      "+--------------------+--------------------+--------------------+--------------------+--------------------+--------------------+\n",
      "only showing top 5 rows\n",
      "\n"
     ]
    }
   ],
   "source": [
    "# SQL Query\n",
    "from pyspark.sql import SQLContext\n",
    "from pyspark.sql.functions import col, size, to_date, year, month, weekofyear\n",
    "sc.conf.set(\"spark.sql.legacy.timeParserPolicy\", \"LEGACY\")\n",
    "# Convert RDD to DataFrame\n",
    "dfEmais = structuredEmailRDD.toDF()\n",
    "dfEmais.show(5)"
   ]
  },
  {
   "cell_type": "code",
   "execution_count": 38,
   "id": "a83dec4f-7429-4c89-92f8-5d2f8d22732e",
   "metadata": {},
   "outputs": [],
   "source": [
    "dfEmais = dfEmais.withColumn('DateTime', to_date(col('Date'), \"EEE, d MMM yyyy HH:mm:ss Z\"))\n",
    "dfEmais = dfEmais.withColumn('Num_To', size(col('To')))\n",
    "dfEmais = dfEmais.withColumn('Num_CC', size(col('CC')))"
   ]
  },
  {
   "cell_type": "code",
   "execution_count": 39,
   "id": "e0a3595e",
   "metadata": {},
   "outputs": [
    {
     "name": "stderr",
     "output_type": "stream",
     "text": [
      "/usr/local/spark/python/pyspark/sql/context.py:113: FutureWarning: Deprecated in 3.0.0. Use SparkSession.builder.getOrCreate() instead.\n",
      "  warnings.warn(\n"
     ]
    }
   ],
   "source": [
    "sqlContext = SQLContext(sc)\n",
    "tableName = \"Emails\"\n",
    "dfEmais.createOrReplaceTempView(tableName)"
   ]
  },
  {
   "cell_type": "code",
   "execution_count": 40,
   "id": "ed8a7f19",
   "metadata": {
    "deletable": false,
    "nbgrader": {
     "cell_type": "code",
     "checksum": "8ea1fa01eb1835f121db47b4b018bc2f",
     "grade": false,
     "grade_id": "cell-59cba51c8b97bd45",
     "locked": false,
     "schema_version": 3,
     "solution": true,
     "task": false
    }
   },
   "outputs": [],
   "source": [
    "# 0.5đ\n",
    "def getTopKRowsBySQL(sqlContext: SQLContext, tableName: str, k: int) -> DataFrame:\n",
    "    '''\n",
    "    This function queries the first k rows from a given table using SQLContext.\n",
    "\n",
    "    Args:\n",
    "    - sqlContext: An SQLContext object that provides the environment to run SQL queries on structured data.\n",
    "    - tableName: The name of the table from which the rows will be selected.\n",
    "    - k: The number of rows to return. It must be a positive integer.\n",
    "\n",
    "    Returns:\n",
    "    - result: A DataFrame containing the first k rows of data from the specified table.\n",
    "                If the table contains fewer than k rows, the DataFrame will contain all available rows.\n",
    "    '''\n",
    "    # YOUR CODE HERE\n",
    "    if k <= 0:\n",
    "        raise ValueError(\"k must be a positive integer\")\n",
    "    result = sqlContext.sql(f\"select * from {tableName} LIMIT {k}\")\n",
    "    return result\n",
    "\n",
    "\n",
    "def getTopKRowsByDFOperations(dataFrame: DataFrame, k: int) -> DataFrame:\n",
    "    '''\n",
    "    This function queries the first k rows from a given table using SQLContext.\n",
    "\n",
    "    Args:\n",
    "    - dataFrame: An DataFrame data\n",
    "    - tableName: The name of the table from which the rows will be selected.\n",
    "    - k: The number of rows to return. It must be a positive integer.\n",
    "\n",
    "    Returns:\n",
    "    - resultDF: A DataFrame containing the first k rows of data from the specified table.\n",
    "                If the table contains fewer than k rows, the DataFrame will contain all available rows.\n",
    "    '''\n",
    "    # YOUR CODE HERE\n",
    "    if k <= 0:\n",
    "        raise ValueError(\"k must be a positive integer\")\n",
    "    result = dataFrame.limit(k)\n",
    "    return result"
   ]
  },
  {
   "cell_type": "code",
   "execution_count": 41,
   "id": "4000764f",
   "metadata": {},
   "outputs": [
    {
     "name": "stdout",
     "output_type": "stream",
     "text": [
      "+--------------------+--------------------+--------------------+----------------+--------------------+--------------------+----------+------+------+\n",
      "|                Date|                From|                  To|         Subject|                  CC|             Content|  DateTime|Num_To|Num_CC|\n",
      "+--------------------+--------------------+--------------------+----------------+--------------------+--------------------+----------+------+------+\n",
      "|Thu, 1 Feb 2001 0...|[tana.jones@enron...|[carol.clair@enro...|Deutsche Bank AG|[larry.gagliardi@...|We have received ...|2001-02-01|    64|     3|\n",
      "+--------------------+--------------------+--------------------+----------------+--------------------+--------------------+----------+------+------+\n",
      "\n"
     ]
    }
   ],
   "source": [
    "getTopKRowsBySQL(sqlContext,tableName,1).show()"
   ]
  },
  {
   "cell_type": "code",
   "execution_count": 42,
   "id": "1d86831c",
   "metadata": {},
   "outputs": [
    {
     "name": "stdout",
     "output_type": "stream",
     "text": [
      "+--------------------+--------------------+--------------------+----------------+--------------------+--------------------+----------+------+------+\n",
      "|                Date|                From|                  To|         Subject|                  CC|             Content|  DateTime|Num_To|Num_CC|\n",
      "+--------------------+--------------------+--------------------+----------------+--------------------+--------------------+----------+------+------+\n",
      "|Thu, 1 Feb 2001 0...|[tana.jones@enron...|[carol.clair@enro...|Deutsche Bank AG|[larry.gagliardi@...|We have received ...|2001-02-01|    64|     3|\n",
      "+--------------------+--------------------+--------------------+----------------+--------------------+--------------------+----------+------+------+\n",
      "\n"
     ]
    }
   ],
   "source": [
    "getTopKRowsByDFOperations(dfEmais,1).show()"
   ]
  },
  {
   "cell_type": "code",
   "execution_count": null,
   "id": "f1855563",
   "metadata": {
    "deletable": false,
    "editable": false,
    "nbgrader": {
     "cell_type": "code",
     "checksum": "3c16dbd5e7f86c6b5342a537a31eb3b0",
     "grade": true,
     "grade_id": "cell-df767c7815b5f8ed",
     "locked": true,
     "points": 0.25,
     "schema_version": 3,
     "solution": false,
     "task": false
    }
   },
   "outputs": [],
   "source": []
  },
  {
   "cell_type": "code",
   "execution_count": null,
   "id": "fd5d60ed",
   "metadata": {
    "deletable": false,
    "editable": false,
    "nbgrader": {
     "cell_type": "code",
     "checksum": "b496203fe4701c0d30269fd1dee5e74d",
     "grade": true,
     "grade_id": "cell-74f2bce6371a9e1e",
     "locked": true,
     "points": 0.25,
     "schema_version": 3,
     "solution": false,
     "task": false
    }
   },
   "outputs": [],
   "source": []
  },
  {
   "cell_type": "code",
   "execution_count": 43,
   "id": "b446c6e6",
   "metadata": {
    "deletable": false,
    "nbgrader": {
     "cell_type": "code",
     "checksum": "5ff5dd0f1f079b0887669d3e3598f150",
     "grade": false,
     "grade_id": "cell-5db80bd0514fec79",
     "locked": false,
     "schema_version": 3,
     "solution": true,
     "task": false
    }
   },
   "outputs": [],
   "source": [
    "# 1đ, 6.5đ\n",
    "def countEmailsWithToGreaterThanKBySQL(sqlContext: SQLContext, tableName: str, k: int) -> int:\n",
    "    '''\n",
    "    This function uses SQL to count the number of emails with more than k email addresses in the To field.\n",
    "\n",
    "    Args:\n",
    "    - sqlContext: An SQLContext object that provides the environment to run SQL queries on structured data.\n",
    "    - tableName: The name of the table that contains the email data.\n",
    "    - k: The threshold number of email addresses in the To field.\n",
    "\n",
    "    Returns:\n",
    "    - count: An integer representing the number of emails where the To field has more than k email addresses.\n",
    "    '''\n",
    "    # YOUR CODE HERE\n",
    "    # raise NotImplementedError()\n",
    "    count = sqlContext.sql(f\"select count(*) as email_count from {tableName} where `Num_To` > {k};\").collect()[0]['email_count']\n",
    "    return count\n",
    "def countEmailsWithToGreaterThanKByDFOperations(dataFrame: DataFrame, k: int) -> int:\n",
    "    '''\n",
    "    This function counts the number of emails with more than k email addresses in the To field using DataFrame operations.\n",
    "\n",
    "    Args:\n",
    "    - dataFrame: A DataFrame containing the email data.\n",
    "    - k: The threshold number of email addresses in the To field.\n",
    "\n",
    "    Returns:\n",
    "    - count: An integer representing the number of emails where the To field has more than k email addresses.\n",
    "    '''\n",
    "    # YOUR CODE HERE\n",
    "    # raise NotImplementedError()\n",
    "    # result = dataFrame.rdd.filter(lambda x : (x['Num_To']) > k).count()\n",
    "    # result = dataFrame.filter(dataFrame['Num_To'] > k).count()\n",
    "    result = dataFrame.filter(col('Num_To') > k).count()\n",
    "    return result\n"
   ]
  },
  {
   "cell_type": "code",
   "execution_count": 44,
   "id": "e278b27c",
   "metadata": {},
   "outputs": [
    {
     "data": {
      "text/plain": [
       "525"
      ]
     },
     "execution_count": 44,
     "metadata": {},
     "output_type": "execute_result"
    }
   ],
   "source": [
    "countEmailsWithToGreaterThanKBySQL(sqlContext,tableName,50)"
   ]
  },
  {
   "cell_type": "code",
   "execution_count": 45,
   "id": "6b8070ea",
   "metadata": {
    "deletable": false,
    "editable": false,
    "nbgrader": {
     "cell_type": "code",
     "checksum": "adfcd500075d0286733fb26df7ea6c15",
     "grade": true,
     "grade_id": "cell-9274467b6b9c0656",
     "locked": true,
     "points": 0.5,
     "schema_version": 3,
     "solution": false,
     "task": false
    }
   },
   "outputs": [
    {
     "data": {
      "text/plain": [
       "525"
      ]
     },
     "execution_count": 45,
     "metadata": {},
     "output_type": "execute_result"
    }
   ],
   "source": [
    "countEmailsWithToGreaterThanKByDFOperations(dfEmais,50)"
   ]
  },
  {
   "cell_type": "code",
   "execution_count": null,
   "id": "a53e8cfb",
   "metadata": {
    "deletable": false,
    "editable": false,
    "nbgrader": {
     "cell_type": "code",
     "checksum": "f91c947e7b82f38e5de3cbbb62febacf",
     "grade": true,
     "grade_id": "cell-079549d288632298",
     "locked": true,
     "points": 0.5,
     "schema_version": 3,
     "solution": false,
     "task": false
    }
   },
   "outputs": [],
   "source": []
  },
  {
   "cell_type": "code",
   "execution_count": 46,
   "id": "d4d2f73b",
   "metadata": {
    "deletable": false,
    "nbgrader": {
     "cell_type": "code",
     "checksum": "149e39b46131161e6213b008c81aacc9",
     "grade": false,
     "grade_id": "cell-d1ace5fce549a773",
     "locked": false,
     "schema_version": 3,
     "solution": true,
     "task": false
    }
   },
   "outputs": [],
   "source": [
    "def countEmailsWithMoreToThanCCInJanuaryBySQL(sqlContext, tableName):\n",
    "    # \"đếm số lượng email có số lượng địa chỉ trong trường \"To\" nhiều hơn số lượng địa chỉ trong trường \"CC\" trong tháng Giêng (January)\"\n",
    "    query = f\"\"\"\n",
    "    SELECT COUNT(*) FROM {tableName}\n",
    "    WHERE Num_To > Num_CC and month(DateTime) = 1;\n",
    "    \"\"\"\n",
    "    count = sqlContext.sql(query).collect()[0][0]\n",
    "    \n",
    "    # count = sqlContext.sql(f\"select count(*) from {tableName} where Num_To > Num_CC and month(DateTime) = 1\").collect()[0][0]\n",
    "    return count\n",
    "\n",
    "def countEmailsWithMoreToThanCCInJanuaryByDFOperations(dataFrame: DataFrame, monthValue: int):\n",
    "    #  đếm số lượng email có số lượng địa chỉ trong trường \"To\" lớn hơn số lượng địa chỉ trong trường \"CC\" .\n",
    "    # count = dataFrame.filter((dataFrame.Num_To > dataFrame.Num_CC) & (month(dataFrame.DateTime) == monthValue)).count()\n",
    "    count = dataFrame.filter((month(col(\"DateTime\")) == monthValue) & (col(\"Num_To\") > col(\"Num_CC\"))).count()\n",
    "\n",
    "    return count"
   ]
  },
  {
   "cell_type": "code",
   "execution_count": 47,
   "id": "26827758",
   "metadata": {},
   "outputs": [
    {
     "data": {
      "text/plain": [
       "1567"
      ]
     },
     "execution_count": 47,
     "metadata": {},
     "output_type": "execute_result"
    }
   ],
   "source": [
    "countEmailsWithMoreToThanCCInJanuaryBySQL(sqlContext, tableName)"
   ]
  },
  {
   "cell_type": "code",
   "execution_count": 48,
   "id": "b8d680a9",
   "metadata": {},
   "outputs": [
    {
     "data": {
      "text/plain": [
       "1567"
      ]
     },
     "execution_count": 48,
     "metadata": {},
     "output_type": "execute_result"
    }
   ],
   "source": [
    "countEmailsWithMoreToThanCCInJanuaryByDFOperations(dfEmais,1)"
   ]
  },
  {
   "cell_type": "code",
   "execution_count": null,
   "id": "682d0711",
   "metadata": {
    "deletable": false,
    "editable": false,
    "nbgrader": {
     "cell_type": "code",
     "checksum": "d21d1ff6a5e5533308bf5a01ffaf0bcd",
     "grade": true,
     "grade_id": "cell-b9f5111be939765c",
     "locked": true,
     "points": 0.5,
     "schema_version": 3,
     "solution": false,
     "task": false
    }
   },
   "outputs": [],
   "source": []
  },
  {
   "cell_type": "code",
   "execution_count": null,
   "id": "646ed193",
   "metadata": {
    "deletable": false,
    "editable": false,
    "nbgrader": {
     "cell_type": "code",
     "checksum": "082a1b454e699fc55ee6221cd3f04675",
     "grade": true,
     "grade_id": "cell-040fe6d90cdb261f",
     "locked": true,
     "points": 0.5,
     "schema_version": 3,
     "solution": false,
     "task": false
    }
   },
   "outputs": [],
   "source": []
  },
  {
   "cell_type": "code",
   "execution_count": 49,
   "id": "92c00bfd",
   "metadata": {
    "deletable": false,
    "nbgrader": {
     "cell_type": "code",
     "checksum": "281a6052afba3953a5ffb4c0238f08c6",
     "grade": false,
     "grade_id": "cell-6b8a3a09e52c62fc",
     "locked": false,
     "schema_version": 3,
     "solution": true,
     "task": false
    }
   },
   "outputs": [],
   "source": [
    "# 1đ, 8.5\n",
    "def countEmailsInMonthBySQL(sqlContext: SQLContext, tableName: str, monthValue: int) -> int:\n",
    "    '''\n",
    "    This function calculates the number of emails sent in a given year by performing a group by operation on the DateTime column using SQL.\n",
    "\n",
    "    Args:\n",
    "    - sqlContext: An SQLContext object that provides the environment to run SQL queries on structured data.\n",
    "    - tableName: The name of the table that contains the email data.\n",
    "    - monthValue: The specific month to filter the emails by (1-12).\n",
    "\n",
    "    Returns:\n",
    "    - email_count: An integer representing the number of emails sent in the given date.\n",
    "    '''\n",
    "    # YOUR CODE HERE\n",
    "    # raise NotImplementedError()\n",
    "    query = f\"\"\"\n",
    "    SELECT COUNT(*) FROM {tableName}\n",
    "    WHERE MONTH(DateTime) = {monthValue}\n",
    "    \"\"\"\n",
    "    emailCount = sqlContext.sql(query).collect()[0][0]\n",
    "    return emailCount\n",
    "\n",
    "def countEmailsInMonthByDFOperations(dataFrame: DataFrame, monthValue: int) -> int:\n",
    "    '''\n",
    "    This function calculates the number of emails sent in a given month by performing a filter operation on the DateTime column using DataFrame operations.\n",
    "\n",
    "    Args:\n",
    "    - dataFrame: A DataFrame containing the email data.\n",
    "    - monthValue: The specific date to filter the emails by.\n",
    "\n",
    "    Returns:\n",
    "    - email_count: An integer representing the number of emails sent in the given monthValue.\n",
    "    '''\n",
    "    assert isinstance(dataFrame, DataFrame), f\"dataFrame is not the correct data type, expected DataFrame but got {type(dataFrame)}\"\n",
    "    assert isinstance(monthValue, int) and monthValue > 0 and monthValue <= 12, f\"date must be a positive integer, but got {monthValue}\"\n",
    "    # YOUR CODE HERE\n",
    "    # raise NotImplementedError()\n",
    "    result = dataFrame.filter(month(col(\"DateTime\")) == monthValue).count()\n",
    "    return result\n"
   ]
  },
  {
   "cell_type": "code",
   "execution_count": 50,
   "id": "09408e05",
   "metadata": {},
   "outputs": [
    {
     "data": {
      "text/plain": [
       "1826"
      ]
     },
     "execution_count": 50,
     "metadata": {},
     "output_type": "execute_result"
    }
   ],
   "source": [
    "countEmailsInMonthBySQL(sqlContext,tableName,5)"
   ]
  },
  {
   "cell_type": "code",
   "execution_count": 51,
   "id": "1e1936c0",
   "metadata": {},
   "outputs": [
    {
     "data": {
      "text/plain": [
       "1826"
      ]
     },
     "execution_count": 51,
     "metadata": {},
     "output_type": "execute_result"
    }
   ],
   "source": [
    "countEmailsInMonthByDFOperations(dfEmais,5)"
   ]
  },
  {
   "cell_type": "code",
   "execution_count": null,
   "id": "319a45d7",
   "metadata": {
    "deletable": false,
    "editable": false,
    "nbgrader": {
     "cell_type": "code",
     "checksum": "1d2f5764f769c428ffb5e8033ed6974c",
     "grade": true,
     "grade_id": "cell-8cd50007319c31c3",
     "locked": true,
     "points": 0.5,
     "schema_version": 3,
     "solution": false,
     "task": false
    }
   },
   "outputs": [],
   "source": []
  },
  {
   "cell_type": "code",
   "execution_count": null,
   "id": "a80da4c8",
   "metadata": {
    "deletable": false,
    "editable": false,
    "nbgrader": {
     "cell_type": "code",
     "checksum": "d677c6c48804e4c14c212d142091fba5",
     "grade": true,
     "grade_id": "cell-9fb0d8fbb5586419",
     "locked": true,
     "points": 0.5,
     "schema_version": 3,
     "solution": false,
     "task": false
    }
   },
   "outputs": [],
   "source": []
  },
  {
   "cell_type": "code",
   "execution_count": 52,
   "id": "55078914",
   "metadata": {
    "deletable": false,
    "nbgrader": {
     "cell_type": "code",
     "checksum": "9a538ce13db5f35914169892ca77efad",
     "grade": false,
     "grade_id": "cell-efc7692f7eb213ab",
     "locked": false,
     "schema_version": 3,
     "solution": true,
     "task": false
    }
   },
   "outputs": [],
   "source": [
    "# 1đ\n",
    "def countEmailsPerWeekBySQL(sqlContext: SQLContext, tableName: str) -> DataFrame:\n",
    "    '''\n",
    "    This function calculates the number of emails sent per Week by performing a group by operation on the DateTime column \n",
    "    and sorts the result in descending order by the number of emails.\n",
    "\n",
    "    Args:\n",
    "    - sqlContext: An SQLContext object that provides the environment to run SQL queries on structured data.\n",
    "    - tableName: The name of the table that contains the email data.\n",
    "\n",
    "    Returns:\n",
    "    - resultDF: A DataFrame containing the number of emails sent per Week, sorted in descending order by num week.\n",
    "                With schema:\n",
    "                    root\n",
    "                     |-- week: integer (nullable = true)\n",
    "                     |-- count: long (nullable = false)\n",
    "                    \n",
    "    '''\n",
    "    assert isinstance(sqlContext, SQLContext), f\"sqlContext is not the correct data type, expected SQLContext but got {type(sqlContext)}\"\n",
    "    assert isinstance(tableName, str), f\"tableName is not the correct data type, expected string but got {type(tableName)}\"\n",
    "    # YOUR CODE HERE\n",
    "    # raise NotImplementedError()\n",
    "    query = f\"\"\"\n",
    "    SELECT WEEKOFYEAR(DateTime) AS week, COUNT(*) AS emails_count FROM {tableName}\n",
    "    GROUP BY WEEKOFYEAR(DateTime) \n",
    "    ORDER BY week DESC;\n",
    "    \"\"\"\n",
    "    result = sqlContext.sql(query)\n",
    "    return result\n",
    "\n",
    "\n",
    "def countEmailsPerWeekByDFOperations(dataFrame: DataFrame) -> DataFrame:\n",
    "    '''\n",
    "    This function calculates the number of emails sent per Week by performing a group by operation on the DateTime column \n",
    "    and sorts the result in descending order by the number of emails.\n",
    "\n",
    "    Args:\n",
    "    - dataFrame: A DataFrame containing the email data.\n",
    "\n",
    "    Returns:\n",
    "    - resultDF: A DataFrame containing the number of emails sent per Week, sorted in descending order by num week.\n",
    "                With schema:\n",
    "                    root\n",
    "                     |-- week: integer (nullable = true)\n",
    "                     |-- count: long (nullable = false)\n",
    "    '''\n",
    "    assert isinstance(dataFrame, DataFrame), f\"dataFrame is not the correct data type, expected DataFrame but got {type(dataFrame)}\"\n",
    "    # YOUR CODE HERE\n",
    "    # raise NotImplementedError()\n",
    "    result = dataFrame.groupBy(weekofyear('DateTime').alias(\"week\")).count().alias(\"emails_count\").orderBy(\"week\",ascending = False)\n",
    "    return result"
   ]
  },
  {
   "cell_type": "code",
   "execution_count": 53,
   "id": "49b661cb",
   "metadata": {},
   "outputs": [
    {
     "name": "stdout",
     "output_type": "stream",
     "text": [
      "+----+------------+\n",
      "|week|emails_count|\n",
      "+----+------------+\n",
      "|  52|         193|\n",
      "|  51|         338|\n",
      "|  50|         616|\n",
      "|  49|         491|\n",
      "|  48|         700|\n",
      "|  47|         518|\n",
      "|  46|         628|\n",
      "|  45|         481|\n",
      "|  44|         503|\n",
      "|  43|         768|\n",
      "|  42|         576|\n",
      "|  41|         405|\n",
      "|  40|         349|\n",
      "|  39|         350|\n",
      "|  38|         285|\n",
      "|  37|         311|\n",
      "|  36|         227|\n",
      "|  35|         307|\n",
      "|  34|         285|\n",
      "|  33|         225|\n",
      "+----+------------+\n",
      "only showing top 20 rows\n",
      "\n"
     ]
    }
   ],
   "source": [
    "countEmailsPerWeekBySQL(sqlContext,tableName).show()"
   ]
  },
  {
   "cell_type": "code",
   "execution_count": 54,
   "id": "58639b52",
   "metadata": {},
   "outputs": [
    {
     "name": "stdout",
     "output_type": "stream",
     "text": [
      "+----+-----+\n",
      "|week|count|\n",
      "+----+-----+\n",
      "|  52|  193|\n",
      "|  51|  338|\n",
      "|  50|  616|\n",
      "|  49|  491|\n",
      "|  48|  700|\n",
      "|  47|  518|\n",
      "|  46|  628|\n",
      "|  45|  481|\n",
      "|  44|  503|\n",
      "|  43|  768|\n",
      "|  42|  576|\n",
      "|  41|  405|\n",
      "|  40|  349|\n",
      "|  39|  350|\n",
      "|  38|  285|\n",
      "|  37|  311|\n",
      "|  36|  227|\n",
      "|  35|  307|\n",
      "|  34|  285|\n",
      "|  33|  225|\n",
      "+----+-----+\n",
      "only showing top 20 rows\n",
      "\n"
     ]
    }
   ],
   "source": [
    "countEmailsPerWeekByDFOperations(dfEmais).show()"
   ]
  },
  {
   "cell_type": "code",
   "execution_count": null,
   "id": "0ed30cbf",
   "metadata": {
    "deletable": false,
    "editable": false,
    "nbgrader": {
     "cell_type": "code",
     "checksum": "1330955b2cecc8ee8a1132effed9babe",
     "grade": true,
     "grade_id": "cell-ba0426c383b52bf6",
     "locked": true,
     "points": 0.5,
     "schema_version": 3,
     "solution": false,
     "task": false
    }
   },
   "outputs": [],
   "source": []
  },
  {
   "cell_type": "code",
   "execution_count": null,
   "id": "c040bd0c",
   "metadata": {
    "deletable": false,
    "editable": false,
    "nbgrader": {
     "cell_type": "code",
     "checksum": "0c047bbc5a4e9b56dbc0357cc74ba43d",
     "grade": true,
     "grade_id": "cell-f943c2987596321f",
     "locked": true,
     "points": 0.5,
     "schema_version": 3,
     "solution": false,
     "task": false
    }
   },
   "outputs": [],
   "source": []
  }
 ],
 "metadata": {
  "kernelspec": {
   "display_name": "Python 3 (ipykernel)",
   "language": "python",
   "name": "python3"
  },
  "language_info": {
   "codemirror_mode": {
    "name": "ipython",
    "version": 3
   },
   "file_extension": ".py",
   "mimetype": "text/x-python",
   "name": "python",
   "nbconvert_exporter": "python",
   "pygments_lexer": "ipython3",
   "version": "3.9.13"
  }
 },
 "nbformat": 4,
 "nbformat_minor": 5
}
