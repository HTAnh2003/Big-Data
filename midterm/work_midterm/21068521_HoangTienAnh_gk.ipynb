{
 "cells": [
  {
   "cell_type": "markdown",
   "id": "7372c294",
   "metadata": {
    "slideshow": {
     "slide_type": ""
    },
    "tags": []
   },
   "source": [
    "### TRƯỜNG ĐẠI HỌC CÔNG NGHIỆP\n",
    "### THÀNH PHỐ HỒ CHÍ MINH\n",
    " \n",
    "### KHOA Công nghệ Thông tin   \n",
    "## ĐỀ THI GIỮA KỲ\n",
    "### Môn thi : Nhập môn dữ liệu lớn \n",
    "### Lớp/Lớp học phần:  DHKHDL17A\n",
    "* Thời gian làm bài: 75 phút (Không kể thời gian phát đề)\n",
    "* Thí sinh được sử dụng tài liệu và tra cứu tại trang wed\n",
    "  - https://spark.apache.org/\n",
    "  - https://stackoverflow.com/\n",
    "  - https://learn.microsoft.com/en-us/sql/t-sql\n",
    "* Thí sinh làm bài và lưu lại với định dạng mssv_hovaten_gk.ipynb. Ví dụ bạn có mã số sinh viên là: 12131411, họ và tên: Nguyễn Văn A, thì nộp bài với tên: **12131411_NguyenVanA_gk.ipynb**\n",
    "* Thí sinh sử dụng dữ liệu *email.csv*, điều chỉnh biến 'dataPath' ở cell đầu tiên lại cho đúng với đường dẫn đến file data.\n",
    "* Hoàn thành tất cả các vị trí có chữ **# YOUR CODE HERE** để hoàn thành yêu cầu của mỗi hàm.\n",
    "#### LƯU Ý: KHÔNG THAY ĐỔI NHỮNG CHỖ KHÁC"
   ]
  },
  {
   "cell_type": "code",
   "execution_count": 1,
   "id": "bd6cc2fd",
   "metadata": {
    "slideshow": {
     "slide_type": ""
    },
    "tags": []
   },
   "outputs": [],
   "source": [
    "import os\n",
    "from pyspark.sql import SparkSession\n",
    "from pyspark.sql.dataframe import DataFrame\n",
    "from pyspark.rdd import RDD\n",
    "from pyspark.sql.types import Row\n",
    "\n",
    "sc = SparkSession.builder \\\n",
    "    .appName(\"Email Data Processing\") \\\n",
    "    .getOrCreate()\n",
    "\n",
    "dataPath = \"./data/email.csv\""
   ]
  },
  {
   "cell_type": "code",
   "execution_count": 2,
   "id": "33cf49a5",
   "metadata": {},
   "outputs": [],
   "source": [
    "dataPath = os.environ.get(\"DATA_MIDTERM\") or dataPath"
   ]
  },
  {
   "cell_type": "code",
   "execution_count": 4,
   "id": "13f85f58",
   "metadata": {
    "deletable": false,
    "nbgrader": {
     "cell_type": "code",
     "checksum": "ec0a8b5af082451cb9c946fda360a4eb",
     "grade": false,
     "grade_id": "cell-14537bbf8b2dcd10",
     "locked": false,
     "schema_version": 3,
     "solution": true,
     "task": false
    }
   },
   "outputs": [],
   "source": [
    "#0.5\n",
    "def loadAndProcessCsv(filePath: str, spark: SparkSession) -> DataFrame:\n",
    "    '''\n",
    "    This function loads a CSV file into a Spark DataFrame, caches it, \n",
    "    drops rows with null values, and prints the schema. (using option when read to keep format - header, columns)\n",
    "    \n",
    "    Args:\n",
    "        file_path (str): Path to the CSV file.\n",
    "        spark (SparkSession): Active Spark session.\n",
    "        \n",
    "    Returns:\n",
    "        DataFrame: Processed DataFrame.\n",
    "    '''\n",
    "\n",
    "    data = None\n",
    "    # YOUR CODE HERE\n",
    "    data = spark.read \\\n",
    "    .format(\"csv\") \\\n",
    "    .option(\"header\",\"true\") \\\n",
    "    .option(\"inferSchema\",\"true\") \\\n",
    "    .option(\"samplingRatio\",.01) \\\n",
    "    .option(\"multiLine\",\"true\") \\\n",
    "    .option(\"escape\", '\"') \\\n",
    "    .option(\"quote\", '\"') \\\n",
    "    .option(\"sep\", \",\") \\\n",
    "    .load(filePath)\n",
    "\n",
    "    data = data.dropna()\n",
    "    \n",
    "    data.cache()\n",
    "    \n",
    "    data.printSchema()\n",
    "    # raise NotImplementedError()\n",
    "    return data"
   ]
  },
  {
   "cell_type": "code",
   "execution_count": 5,
   "id": "d776645d",
   "metadata": {},
   "outputs": [
    {
     "name": "stdout",
     "output_type": "stream",
     "text": [
      "root\n",
      " |-- file: string (nullable = true)\n",
      " |-- message: string (nullable = true)\n",
      "\n"
     ]
    }
   ],
   "source": [
    "data = loadAndProcessCsv(dataPath,sc)"
   ]
  },
  {
   "cell_type": "code",
   "execution_count": 6,
   "id": "c57e5ca9",
   "metadata": {},
   "outputs": [
    {
     "data": {
      "text/plain": [
       "['file', 'message']"
      ]
     },
     "execution_count": 6,
     "metadata": {},
     "output_type": "execute_result"
    }
   ],
   "source": [
    "data.columns"
   ]
  },
  {
   "cell_type": "code",
   "execution_count": null,
   "id": "b6f08350",
   "metadata": {
    "deletable": false,
    "editable": false,
    "nbgrader": {
     "cell_type": "code",
     "checksum": "0805998182cdbd65ff49968dc356ad9e",
     "grade": true,
     "grade_id": "cell-a4865a6f9031b776",
     "locked": true,
     "points": 0.5,
     "schema_version": 3,
     "solution": false,
     "task": false
    }
   },
   "outputs": [],
   "source": []
  },
  {
   "cell_type": "code",
   "execution_count": 10,
   "id": "eaf8dde5",
   "metadata": {
    "deletable": false,
    "nbgrader": {
     "cell_type": "code",
     "checksum": "bb5e3dcd00237928205177e3b0bf2921",
     "grade": false,
     "grade_id": "cell-856294652d081020",
     "locked": false,
     "schema_version": 3,
     "solution": true,
     "task": false
    }
   },
   "outputs": [],
   "source": [
    "# 0.5đ\n",
    "def createRDD(data: DataFrame)->RDD[Row]:\n",
    "    '''\n",
    "    This function converts a Spark DataFrame into an RDD of Rows.\n",
    "    \n",
    "    Args:\n",
    "        data (DataFrame): Input DataFrame containing data loaded by Spark.\n",
    "        \n",
    "    Returns:\n",
    "        RDD[Row]: An RDD containing all Rows from the input DataFrame.\n",
    "    '''\n",
    "    outRDD = None\n",
    "\n",
    "    # YOUR CODE HERE\n",
    "    # raise NotImplementedError()\n",
    "    outRDD = data.rdd\n",
    "    \n",
    "    return outRDD"
   ]
  },
  {
   "cell_type": "code",
   "execution_count": 11,
   "id": "aad30e17",
   "metadata": {},
   "outputs": [],
   "source": [
    "emailRDD = createRDD(data)\n",
    "assert isinstance(emailRDD, RDD), \"createRDD() does not return the correct data type (RDD)\"\n",
    "assert isinstance(emailRDD.first(),Row), \"createRDD() contains elements that are not of type Row\""
   ]
  },
  {
   "cell_type": "code",
   "execution_count": null,
   "id": "df4210d3",
   "metadata": {
    "deletable": false,
    "editable": false,
    "nbgrader": {
     "cell_type": "code",
     "checksum": "d520b4750323b79105c7859ec15d6c67",
     "grade": true,
     "grade_id": "cell-9f76a3648ae0bde3",
     "locked": true,
     "points": 0.5,
     "schema_version": 3,
     "solution": false,
     "task": false
    }
   },
   "outputs": [],
   "source": []
  },
  {
   "cell_type": "code",
   "execution_count": 13,
   "id": "e2548a53",
   "metadata": {},
   "outputs": [
    {
     "data": {
      "text/plain": [
       "Row(Date='Thu, 1 Feb 2001 08:00:00 -0800 (PST)', From=['tana.jones@enron.com'], To=['diane.ellstrom@enron.com', 'janie.aguayo@enron.com', 'susan.bailey@enron.com', 'cheryl.nelson@enron.com', 'rudwell.johnson@enron.com', 'anthony.campos@enron.com', 'dale.neuner@enron.com', 'francisco.leite@enron.com', 'robert.bruce@enron.com', 'laurel.adams@enron.com', 'brent.hendry@enron.com', 'carrie.southard@enron.com', 'kim.theriot@enron.com', 'nidia.mendoza@enron.com', 'tanya.rohauer@enron.com', 'samantha.boyd@enron.com', 'cheryl.johnson@enron.com', 'bob.bowen@enron.com', 'edward.sacks@enron.com', 'paul.radous@enron.com', 'mark.taylor@enron.com', 'tom.moran@enron.com', 'wendy.conwell@enron.com', 'marilyn.colbert@enron.com', 'karen.lambert@enron.com', 'diane.anderson@enron.com', 'scott.tackett@enron.com', 'tracy.ngo@enron.com', 'larry.hunter@enron.com', 'brant.reves@enron.com', 'kevin.meredith@enron.com', 'melissa.murphy@enron.com', 'carol.clair@enron.com', 'jason.moore@enron.com', 'veronica.espinoza@enron.com', 'dianne.seib@enron.com', 'stacey.richardson@enron.com', 'lisa.lees@enron.com', 'lesli.campbell@enron.com', 'sara.shackleton@enron.com', 'frank.davis@enron.com', 'andrea.guillen@enron.com', 'frank.sayre@enron.com', 'william.bradford@enron.com', 'lynn.shivers@enron.com', 'russell.diamond@enron.com', 'georgi.landau@enron.com', 'gordon.heaney@enron.com', 'bill.hare@enron.com', 'adnan.patel@enron.com', 'stephanie.panus@enron.com', 'amber.ebow@enron.com', 'tiffany.williams@enron.com', 'debbie.brackett@enron.com', 'samuel.schott@enron.com', 'bernice.rodriguez@enron.com', 'bradley.diebner@enron.com', 'celeste.cisneros@enron.com', 'mary.cook@enron.com', 'mary.gosnell@enron.com', 'wendi.lebrocq@enron.com', 'derek.bailey@enron.com', 'darren.vanek@enron.com', 'leslie.reeves@enron.com'], Subject='Deutsche Bank AG', CC=['larry.gagliardi@enron.com', 'matthew.dawson@enron.com', \"denis.o'connell@enron.com\"], Content='We have received the following executed Master Agreement:\\n\\nType of Contract: ISDA Master Agreement (Multicurrency-Cross Border)\\n\\nEffective Date:  December 29, 2000\\n\\nEnron Entity:  Enron North America Corp.\\n\\nCounterparty:  Deutsche Bank AG\\n\\nTransactions Covered: Approved for all products, including FX \\n          \\nConfirming Entity: Deutsche Bank AG\\n\\nCalculation Agent: Deutsche Bank AG\\n\\nGoverning Law:  New York\\n\\nApproved Branches For\\nDeutsche Bank:  Brussels, Frankfurt, London, New York, Paris, Singapore, \\nSydney, Tokyo\\n\\nAgency Relationship: Deutsche Bank AG may act as Agent for Deutsche Bank \\nSecurities, if  they are specified as acting in such agency capacity in a \\nConfirmation.\\n\\nPAYMENT NETTING:   Cross transaction payment netting only applies to \\nCommodity Transactions.  There is no payment netting for non-commodity \\ntransactions.  ')"
      ]
     },
     "execution_count": 13,
     "metadata": {},
     "output_type": "execute_result"
    }
   ],
   "source": [
    "import email\n",
    "from typing import List, Optional\n",
    "from pyspark.sql.types import Row\n",
    "\n",
    "def splitEmailAddresses(emailString: str) -> List[Optional[str]]:\n",
    "    '''\n",
    "    The function splits a comma-separated string of email addresses into a unique list.\n",
    "    \n",
    "    Args:\n",
    "        emailString: A string containing email addresses separated by commas.\n",
    "        \n",
    "    Returns:\n",
    "        A list of unique email addresses.\n",
    "    '''\n",
    "    if emailString:\n",
    "        addresses = emailString.split(',')\n",
    "        uniqueAddresses = list(frozenset(map(lambda x: x.strip(), addresses)))\n",
    "        return uniqueAddresses\n",
    "    return []\n",
    "\n",
    "def extractEmailDetailsFromRawText(rawEmail: str) -> Row:\n",
    "    '''\n",
    "    The function extracts relevant details from a raw email message string.\n",
    "    \n",
    "    Args:\n",
    "        rawEmail: A string representing the raw email message.\n",
    "        \n",
    "    Returns:\n",
    "        A Row object containing the extracted email details.\n",
    "    '''\n",
    "    emailMessage = email.message_from_string(rawEmail)\n",
    "    emailContentParts = []\n",
    "    for part in emailMessage.walk():\n",
    "        if part.get_content_type() == 'text/plain':\n",
    "            emailContentParts.append(part.get_payload())\n",
    "\n",
    "    emailContent = ''.join(emailContentParts)\n",
    "\n",
    "    fromAddresses = splitEmailAddresses(emailMessage.get(\"From\"))\n",
    "    toAddresses = splitEmailAddresses(emailMessage.get(\"To\"))\n",
    "    ccEmail = splitEmailAddresses(emailMessage.get(\"Cc\"))\n",
    "    return Row(\n",
    "        Date=emailMessage.get(\"Date\"),\n",
    "        From=fromAddresses, \n",
    "        To=toAddresses, \n",
    "        Subject=emailMessage.get(\"Subject\"), \n",
    "        CC=ccEmail, \n",
    "        Content=emailContent\n",
    "    )\n",
    "\n",
    "# Extract structured email details from the first email message\n",
    "firstEmailData = data.first()\n",
    "structuredEmail = extractEmailDetailsFromRawText(firstEmailData.message)\n",
    "structuredEmail\n"
   ]
  },
  {
   "cell_type": "code",
   "execution_count": 14,
   "id": "93813806",
   "metadata": {
    "deletable": false,
    "nbgrader": {
     "cell_type": "code",
     "checksum": "522261678145e4ec66e0337ab779fc12",
     "grade": false,
     "grade_id": "cell-f35baf56fceec04a",
     "locked": false,
     "schema_version": 3,
     "solution": true,
     "task": false
    }
   },
   "outputs": [],
   "source": [
    "#0.5đ\n",
    "def createStructuredEmailRDD(emailRDD: RDD[Row]) -> RDD[Row]:\n",
    "    '''\n",
    "    The function takes an RDD of email messages and converts it into a new RDD containing structured email details.\n",
    "    \n",
    "    Args:\n",
    "        emailRDD: An RDD where each Row contains an email message in raw text format.\n",
    "        \n",
    "    Returns:\n",
    "        A new RDD where each element is a Row with structured email details such as Date, From, To, Subject, CC, and Content.\n",
    "    '''\n",
    "    structuredEmailRDD = None\n",
    "    # YOUR CODE HERE\n",
    "    # raise NotImplementedError()\n",
    "    structuredEmailRDD = emailRDD.map(lambda x: extractEmailDetailsFromRawText(x.message))\n",
    "    return structuredEmailRDD"
   ]
  },
  {
   "cell_type": "code",
   "execution_count": 15,
   "id": "a5649c9e",
   "metadata": {},
   "outputs": [],
   "source": [
    "structuredEmailRDD = createStructuredEmailRDD(emailRDD)\n",
    "assert isinstance(structuredEmailRDD, RDD), \"createStructuredEmailRDD() doesn't return an RDD\"\n",
    "assert isinstance(structuredEmailRDD.first(), Row), \"createStructuredEmailRDD() elements are not of type Row\""
   ]
  },
  {
   "cell_type": "code",
   "execution_count": null,
   "id": "ae502969",
   "metadata": {
    "deletable": false,
    "editable": false,
    "nbgrader": {
     "cell_type": "code",
     "checksum": "3540ccf5b46ad49cd07449048e2f90e8",
     "grade": true,
     "grade_id": "cell-901c811ecf49faae",
     "locked": true,
     "points": 0.5,
     "schema_version": 3,
     "solution": false,
     "task": false
    }
   },
   "outputs": [],
   "source": []
  },
  {
   "cell_type": "code",
   "execution_count": 16,
   "id": "06bd1f7f",
   "metadata": {
    "deletable": false,
    "nbgrader": {
     "cell_type": "code",
     "checksum": "846a83b9e039b172f2108f5a7251367b",
     "grade": false,
     "grade_id": "cell-30b54476aa422f9f",
     "locked": false,
     "schema_version": 3,
     "solution": true,
     "task": false
    }
   },
   "outputs": [],
   "source": [
    "#1.\n",
    "def countNumberEmail(structuredEmailRDD: RDD[Row], k: int)->int:\n",
    "    '''\n",
    "    The function counts the number of emails with more than `k` email addresses in the CC field.\n",
    "    \n",
    "    Args:\n",
    "    - structuredEmailRDD: RDD of Row objects, each containing an email's structured data.\n",
    "    - k: The threshold for the number of emails in the CC field.\n",
    "    \n",
    "    Returns:\n",
    "    - int: The count of emails with more than `k` email addresses in the CC field.\n",
    "    '''\n",
    "    count = -1\n",
    "    # YOUR CODE HERE\n",
    "    # raise NotImplementedError()\n",
    "    count = structuredEmailRDD.filter(lambda row : len(row.CC) > k).count()\n",
    "\n",
    "    return count"
   ]
  },
  {
   "cell_type": "code",
   "execution_count": 18,
   "id": "0937c462",
   "metadata": {},
   "outputs": [
    {
     "data": {
      "text/plain": [
       "25"
      ]
     },
     "execution_count": 18,
     "metadata": {},
     "output_type": "execute_result"
    }
   ],
   "source": [
    "countNumberEmail(structuredEmailRDD,40)"
   ]
  },
  {
   "cell_type": "code",
   "execution_count": null,
   "id": "a27ebaf3",
   "metadata": {
    "deletable": false,
    "editable": false,
    "nbgrader": {
     "cell_type": "code",
     "checksum": "1fa8e1524660b1801188fe0d59f05c59",
     "grade": true,
     "grade_id": "cell-4da37f7613203cac",
     "locked": true,
     "points": 1,
     "schema_version": 3,
     "solution": false,
     "task": false
    }
   },
   "outputs": [],
   "source": []
  },
  {
   "cell_type": "code",
   "execution_count": 22,
   "id": "9d8e4d96",
   "metadata": {
    "deletable": false,
    "nbgrader": {
     "cell_type": "code",
     "checksum": "b52ae2b0db3a0ee22738b0cdb1374f03",
     "grade": false,
     "grade_id": "cell-d02661e91acdb7ec",
     "locked": false,
     "schema_version": 3,
     "solution": true,
     "task": false
    }
   },
   "outputs": [],
   "source": [
    "# 1đ\n",
    "def countUniqueEmailDomains(structuredEmailRDD: RDD[Row], k) -> int:\n",
    "    '''\n",
    "    This function counts the number of unique email domains in the \"From\" field using `map` and `reduce`.\n",
    "    \n",
    "    Args:\n",
    "    - structuredEmailRDD: An RDD containing Row objects, each representing an email's structured data.\n",
    "    \n",
    "    Returns:\n",
    "    - dict: A dictionary showing the count of emails from each unique domain in the \"From\" field.\n",
    "      Example:\n",
    "        If k = 3, the result might look like:\n",
    "        {\n",
    "          'enron.com': 16452,\n",
    "          'aol.com': 122,\n",
    "          'hotmail.com': 101\n",
    "        }\n",
    "    '''\n",
    "\n",
    "    results = {}\n",
    "    # YOUR CODE HERE\n",
    "    # raise NotImplementedError()\n",
    "    FromRDD = structuredEmailRDD.flatMap(lambda row : row.From) \n",
    "\n",
    "    # list_cc = sc.sparkContext.parallelize(list_cc)\n",
    "    FromRDD = FromRDD.map(lambda x: (x.split(\"@\")[-1],1))\n",
    "    domainCountRDD = FromRDD.reduceByKey(lambda a,b: a+b)\n",
    "    \n",
    "    domainCountRDD = domainCountRDD.sortBy(lambda x : x[1],ascending=False)\n",
    "    results = domainCountRDD.collectAsMap()\n",
    "    # results = dict(sorted(results.items(), key=lambda item: item[1], reverse=True)[:k])\n",
    "    results = dict(list(results.items())[:k])\n",
    "    return results\n"
   ]
  },
  {
   "cell_type": "code",
   "execution_count": 23,
   "id": "8827f959",
   "metadata": {},
   "outputs": [
    {
     "data": {
      "text/plain": [
       "{'enron.com': 16452,\n",
       " 'aol.com': 122,\n",
       " 'hotmail.com': 101,\n",
       " 'txu.com': 76,\n",
       " 'enron.com>': 66,\n",
       " 'mailman.enron.com': 54,\n",
       " 'nymex.com': 53,\n",
       " 'haas.berkeley.edu': 48,\n",
       " 'yahoo.com': 44,\n",
       " 'nyiso.com': 41}"
      ]
     },
     "execution_count": 23,
     "metadata": {},
     "output_type": "execute_result"
    }
   ],
   "source": [
    "countUniqueEmailDomains(structuredEmailRDD, 10)"
   ]
  },
  {
   "cell_type": "code",
   "execution_count": null,
   "id": "189b5459",
   "metadata": {
    "deletable": false,
    "editable": false,
    "nbgrader": {
     "cell_type": "code",
     "checksum": "0d7ebe4975d33e65afe1522df59e7464",
     "grade": true,
     "grade_id": "cell-630afb428dfa2ea0",
     "locked": true,
     "points": 1,
     "schema_version": 3,
     "solution": false,
     "task": false
    }
   },
   "outputs": [],
   "source": []
  },
  {
   "cell_type": "code",
   "execution_count": 36,
   "id": "a57f6bfc",
   "metadata": {
    "deletable": false,
    "nbgrader": {
     "cell_type": "code",
     "checksum": "4225e602d9ce84df8b6f4d74a50011d0",
     "grade": false,
     "grade_id": "cell-99c1d7a5f29cd658",
     "locked": false,
     "schema_version": 3,
     "solution": true,
     "task": false
    }
   },
   "outputs": [],
   "source": [
    "# 0.5đ\n",
    "def countEmailsByRecipient(structuredEmailRDD: RDD[Row], recipient: str) -> int:\n",
    "    '''\n",
    "    The function filters the dataset to include only emails sent to a specific recipient.\n",
    "\n",
    "    Args:\n",
    "    - structuredEmailRDD: RDD of Row objects, each containing an email's structured data.\n",
    "    - recipient: The email address of the recipient to filter by.\n",
    "\n",
    "    Returns:\n",
    "    - numEmail: number email sent to recipient\n",
    "    '''\n",
    "    numEmails =  -1\n",
    "    # YOUR CODE HERE\n",
    "    # raise NotImplementedError()\n",
    "    # flatEmail = structuredEmailRDD.flatMap(lambda x: x.To)\n",
    "    numEmails = structuredEmailRDD.filter(lambda x: recipient in x['To']).count()\n",
    "    # print(flatEmail.first())\n",
    "    \n",
    "    return numEmails"
   ]
  },
  {
   "cell_type": "code",
   "execution_count": 38,
   "id": "4ca6eddd",
   "metadata": {},
   "outputs": [
    {
     "data": {
      "text/plain": [
       "454"
      ]
     },
     "execution_count": 38,
     "metadata": {},
     "output_type": "execute_result"
    }
   ],
   "source": [
    "countEmailsByRecipient(structuredEmailRDD, \"tana.jones@enron.com\")"
   ]
  },
  {
   "cell_type": "code",
   "execution_count": null,
   "id": "f1cfe5b4",
   "metadata": {
    "deletable": false,
    "editable": false,
    "nbgrader": {
     "cell_type": "code",
     "checksum": "a558eea4f77835cdb67bbcf2bac20487",
     "grade": true,
     "grade_id": "cell-abd5680f3d099fdd",
     "locked": true,
     "points": 0.5,
     "schema_version": 3,
     "solution": false,
     "task": false
    }
   },
   "outputs": [],
   "source": []
  },
  {
   "cell_type": "code",
   "execution_count": 47,
   "id": "523d26e2",
   "metadata": {
    "deletable": false,
    "nbgrader": {
     "cell_type": "code",
     "checksum": "7cc13673fb5d849045aa9727f6d5a905",
     "grade": false,
     "grade_id": "cell-e9d7845d1119de1d",
     "locked": false,
     "schema_version": 3,
     "solution": true,
     "task": false
    }
   },
   "outputs": [],
   "source": [
    "# 1.5d\n",
    "def getTopKFrequentWordsInContentBySubject(structuredEmailRDD: RDD[Row], keyword: str, k: int) -> dict:\n",
    "    '''\n",
    "    This function filters the dataset to include only emails with a specific keyword in the subject line,\n",
    "    and then returns the top k most frequent words found in the content of those filtered emails.\n",
    "\n",
    "    Args:\n",
    "    - structuredEmailRDD: RDD of Row objects, where each Row represents an email with structured data, such as subject and content.\n",
    "    - keyword: The keyword to search for in the subject line (case-insensitive).\n",
    "    - k: The number of most frequent words to return.\n",
    "\n",
    "    Returns:\n",
    "    - topKWordsDict: A dictionary containing the top k most frequent words found in the content of filtered emails.\n",
    "                     The keys are the words, and the values are their frequencies, representing how often they appear in the content of the filtered emails.\n",
    "                     example:\n",
    "                    {'to': 12,\n",
    "                     'the': 9,\n",
    "                     'your': 8,\n",
    "                     'a': 5,\n",
    "                     'is': 4,\n",
    "                     'survey': 4,\n",
    "                     'and': 4,\n",
    "                     'you': 4,\n",
    "                     'of': 3,\n",
    "                     'very': 3}\n",
    "    '''\n",
    "    topKWordsDict = {}\n",
    "    # YOUR CODE HERE\n",
    "    # raise NotImplementedError()\n",
    "    filterSubjectRDD = structuredEmailRDD.filter(lambda row : keyword.strip().lower() in row['Subject'].strip().lower())\n",
    "    ContentRDD = filterSubjectRDD.flatMap(lambda row : row.Content.strip().lower().split())\n",
    "    wordPairs = ContentRDD.map(lambda x : (x,1))\n",
    "    wordcounts = wordPairs.reduceByKey(lambda a,b : a+b)\n",
    "    dictWordCounts = wordcounts.sortBy(lambda x: x[1], ascending=False).collectAsMap()\n",
    "    topKWordsDict = dict(list(dictWordCounts.items())[:k])\n",
    "    \n",
    "    return topKWordsDict"
   ]
  },
  {
   "cell_type": "code",
   "execution_count": 48,
   "id": "6f018098",
   "metadata": {},
   "outputs": [
    {
     "data": {
      "text/plain": [
       "{'to': 12,\n",
       " 'the': 9,\n",
       " 'your': 8,\n",
       " 'a': 5,\n",
       " 'is': 4,\n",
       " 'survey': 4,\n",
       " 'and': 4,\n",
       " 'you': 4,\n",
       " 'of': 3,\n",
       " 'very': 3}"
      ]
     },
     "execution_count": 48,
     "metadata": {},
     "output_type": "execute_result"
    }
   ],
   "source": [
    "getTopKFrequentWordsInContentBySubject(structuredEmailRDD, \"image\", 10)"
   ]
  },
  {
   "cell_type": "code",
   "execution_count": null,
   "id": "38d89fc7",
   "metadata": {
    "deletable": false,
    "editable": false,
    "nbgrader": {
     "cell_type": "code",
     "checksum": "50ca882b92171b83f30db3a238e7eeff",
     "grade": true,
     "grade_id": "cell-d19a92dc491afed1",
     "locked": true,
     "points": 1.5,
     "schema_version": 3,
     "solution": false,
     "task": false
    }
   },
   "outputs": [],
   "source": []
  },
  {
   "cell_type": "code",
   "execution_count": 84,
   "id": "0e09c331",
   "metadata": {},
   "outputs": [],
   "source": [
    "# SQL Query\n",
    "from pyspark.sql import SQLContext\n",
    "from pyspark.sql.functions import col, size, to_date, year, month\n",
    "sc.conf.set(\"spark.sql.legacy.timeParserPolicy\", \"LEGACY\")\n",
    "# Convert RDD to DataFrame\n",
    "dfEmais = structuredEmailRDD.toDF()\n",
    "dfEmais = dfEmais.withColumn('DateTime', to_date(col('Date'), \"EEE, d MMM yyyy HH:mm:ss Z\"))\n",
    "dfEmais = dfEmais.withColumn('Num_To', size(col('To')))\n",
    "dfEmais = dfEmais.withColumn('Num_CC', size(col('CC')))"
   ]
  },
  {
   "cell_type": "code",
   "execution_count": 85,
   "id": "21574988",
   "metadata": {},
   "outputs": [
    {
     "name": "stderr",
     "output_type": "stream",
     "text": [
      "/usr/local/spark/python/pyspark/sql/context.py:113: FutureWarning: Deprecated in 3.0.0. Use SparkSession.builder.getOrCreate() instead.\n",
      "  warnings.warn(\n"
     ]
    }
   ],
   "source": [
    "sqlContext = SQLContext(sc)\n",
    "tableName = \"Emails\"\n",
    "dfEmais.createOrReplaceTempView(tableName)"
   ]
  },
  {
   "cell_type": "code",
   "execution_count": 86,
   "id": "74610ff8",
   "metadata": {
    "deletable": false,
    "nbgrader": {
     "cell_type": "code",
     "checksum": "8ea1fa01eb1835f121db47b4b018bc2f",
     "grade": false,
     "grade_id": "cell-59cba51c8b97bd45",
     "locked": false,
     "schema_version": 3,
     "solution": true,
     "task": false
    }
   },
   "outputs": [],
   "source": [
    "# 0.5đ\n",
    "def getTopKRowsBySQL(sqlContext: SQLContext, tableName: str, k: int) -> DataFrame:\n",
    "    '''\n",
    "    This function queries the first k rows from a given table using SQLContext.\n",
    "\n",
    "    Args:\n",
    "    - sqlContext: An SQLContext object that provides the environment to run SQL queries on structured data.\n",
    "    - tableName: The name of the table from which the rows will be selected.\n",
    "    - k: The number of rows to return. It must be a positive integer.\n",
    "\n",
    "    Returns:\n",
    "    - result: A DataFrame containing the first k rows of data from the specified table.\n",
    "                If the table contains fewer than k rows, the DataFrame will contain all available rows.\n",
    "    '''\n",
    "    # YOUR CODE HERE\n",
    "    # raise NotImplementedError()\n",
    "    if k <= 0:\n",
    "        raise ValueError(\"k must be a positive integer\")\n",
    "    result = sqlContext.sql(f\"select * from {tableName} LIMIT {k}\")\n",
    "    return result\n",
    "\n",
    "def getTopKRowsByDFOperations(dataFrame: DataFrame, k: int) -> DataFrame:\n",
    "    '''\n",
    "    This function queries the first k rows from a given table using SQLContext.\n",
    "\n",
    "    Args:\n",
    "    - dataFrame: An DataFrame data\n",
    "    - tableName: The name of the table from which the rows will be selected.\n",
    "    - k: The number of rows to return. It must be a positive integer.\n",
    "\n",
    "    Returns:\n",
    "    - resultDF: A DataFrame containing the first k rows of data from the specified table.\n",
    "                If the table contains fewer than k rows, the DataFrame will contain all available rows.\n",
    "    '''\n",
    "    # YOUR CODE HERE\n",
    "    # raise NotImplementedError()\n",
    "    if k <= 0:\n",
    "        raise ValueError(\"k must be a positive integer\")\n",
    "    result = dataFrame.limit(k)\n",
    "    return result"
   ]
  },
  {
   "cell_type": "code",
   "execution_count": 87,
   "id": "670bd219",
   "metadata": {},
   "outputs": [
    {
     "name": "stdout",
     "output_type": "stream",
     "text": [
      "+--------------------+--------------------+--------------------+----------------+--------------------+--------------------+----------+------+------+\n",
      "|                Date|                From|                  To|         Subject|                  CC|             Content|  DateTime|Num_To|Num_CC|\n",
      "+--------------------+--------------------+--------------------+----------------+--------------------+--------------------+----------+------+------+\n",
      "|Thu, 1 Feb 2001 0...|[tana.jones@enron...|[carol.clair@enro...|Deutsche Bank AG|[larry.gagliardi@...|We have received ...|2001-02-01|    64|     3|\n",
      "+--------------------+--------------------+--------------------+----------------+--------------------+--------------------+----------+------+------+\n",
      "\n"
     ]
    }
   ],
   "source": [
    "getTopKRowsBySQL(sqlContext,tableName,1).show()"
   ]
  },
  {
   "cell_type": "code",
   "execution_count": 88,
   "id": "a8488541",
   "metadata": {},
   "outputs": [
    {
     "name": "stdout",
     "output_type": "stream",
     "text": [
      "+--------------------+--------------------+--------------------+----------------+--------------------+--------------------+----------+------+------+\n",
      "|                Date|                From|                  To|         Subject|                  CC|             Content|  DateTime|Num_To|Num_CC|\n",
      "+--------------------+--------------------+--------------------+----------------+--------------------+--------------------+----------+------+------+\n",
      "|Thu, 1 Feb 2001 0...|[tana.jones@enron...|[carol.clair@enro...|Deutsche Bank AG|[larry.gagliardi@...|We have received ...|2001-02-01|    64|     3|\n",
      "+--------------------+--------------------+--------------------+----------------+--------------------+--------------------+----------+------+------+\n",
      "\n"
     ]
    }
   ],
   "source": [
    "getTopKRowsByDFOperations(dfEmais,1).show()"
   ]
  },
  {
   "cell_type": "code",
   "execution_count": null,
   "id": "483fb2de",
   "metadata": {
    "deletable": false,
    "editable": false,
    "nbgrader": {
     "cell_type": "code",
     "checksum": "3c16dbd5e7f86c6b5342a537a31eb3b0",
     "grade": true,
     "grade_id": "cell-df767c7815b5f8ed",
     "locked": true,
     "points": 0.25,
     "schema_version": 3,
     "solution": false,
     "task": false
    }
   },
   "outputs": [],
   "source": []
  },
  {
   "cell_type": "code",
   "execution_count": null,
   "id": "8298414a",
   "metadata": {
    "deletable": false,
    "editable": false,
    "nbgrader": {
     "cell_type": "code",
     "checksum": "b496203fe4701c0d30269fd1dee5e74d",
     "grade": true,
     "grade_id": "cell-74f2bce6371a9e1e",
     "locked": true,
     "points": 0.25,
     "schema_version": 3,
     "solution": false,
     "task": false
    }
   },
   "outputs": [],
   "source": []
  },
  {
   "cell_type": "code",
   "execution_count": 90,
   "id": "773ffa3e",
   "metadata": {
    "deletable": false,
    "nbgrader": {
     "cell_type": "code",
     "checksum": "f18c20767d60c816ba29cb12f7078fd0",
     "grade": false,
     "grade_id": "cell-5db80bd0514fec79",
     "locked": false,
     "schema_version": 3,
     "solution": true,
     "task": false
    }
   },
   "outputs": [],
   "source": [
    "# 1đ, 6.5đ\n",
    "def countEmailsWithCCGreaterThanKBySQL(sqlContext: SQLContext, tableName: str, k: int) -> int:\n",
    "    '''\n",
    "    This function uses SQL to count the number of emails with more than k email addresses in the CC field.\n",
    "\n",
    "    Args:\n",
    "    - sqlContext: An SQLContext object that provides the environment to run SQL queries on structured data.\n",
    "    - tableName: The name of the table that contains the email data.\n",
    "    - k: The threshold number of email addresses in the CC field.\n",
    "\n",
    "    Returns:\n",
    "    - count: An integer representing the number of emails where the CC field has more than k email addresses.\n",
    "    '''\n",
    "    # YOUR CODE HERE\n",
    "    # raise NotImplementedError()\n",
    "    query = f\"SELECT COUNT(*) FROM {tableName} WHERE size(CC) > {k}\"\n",
    "    count = sqlContext.sql(query).collect()[0][0]\n",
    "    return count\n",
    "    \n",
    "def countEmailsWithCCGreaterThanKByDFOperations(dataFrame: DataFrame, k: int) -> int:\n",
    "    '''\n",
    "    This function counts the number of emails with more than k email addresses in the CC field using DataFrame operations.\n",
    "\n",
    "    Args:\n",
    "    - dataFrame: A DataFrame containing the email data.\n",
    "    - k: The threshold number of email addresses in the CC field.\n",
    "\n",
    "    Returns:\n",
    "    - count: An integer representing the number of emails where the CC field has more than k email addresses.\n",
    "    '''\n",
    "    # YOUR CODE HERE\n",
    "    # raise NotImplementedError()\n",
    "    result = dataFrame.filter(size('CC') > k).count()\n",
    "    return result\n"
   ]
  },
  {
   "cell_type": "code",
   "execution_count": 91,
   "id": "5511f7ba",
   "metadata": {},
   "outputs": [
    {
     "data": {
      "text/plain": [
       "15"
      ]
     },
     "execution_count": 91,
     "metadata": {},
     "output_type": "execute_result"
    }
   ],
   "source": [
    "countEmailsWithCCGreaterThanKBySQL(sqlContext,tableName,50)"
   ]
  },
  {
   "cell_type": "code",
   "execution_count": 92,
   "id": "cc019afe",
   "metadata": {},
   "outputs": [
    {
     "data": {
      "text/plain": [
       "15"
      ]
     },
     "execution_count": 92,
     "metadata": {},
     "output_type": "execute_result"
    }
   ],
   "source": [
    "countEmailsWithCCGreaterThanKByDFOperations(dfEmais,50)"
   ]
  },
  {
   "cell_type": "code",
   "execution_count": null,
   "id": "e7548e22",
   "metadata": {
    "deletable": false,
    "editable": false,
    "nbgrader": {
     "cell_type": "code",
     "checksum": "adfcd500075d0286733fb26df7ea6c15",
     "grade": true,
     "grade_id": "cell-9274467b6b9c0656",
     "locked": true,
     "points": 0.5,
     "schema_version": 3,
     "solution": false,
     "task": false
    }
   },
   "outputs": [],
   "source": []
  },
  {
   "cell_type": "code",
   "execution_count": null,
   "id": "cabaa723",
   "metadata": {
    "deletable": false,
    "editable": false,
    "nbgrader": {
     "cell_type": "code",
     "checksum": "f91c947e7b82f38e5de3cbbb62febacf",
     "grade": true,
     "grade_id": "cell-079549d288632298",
     "locked": true,
     "points": 0.5,
     "schema_version": 3,
     "solution": false,
     "task": false
    }
   },
   "outputs": [],
   "source": []
  },
  {
   "cell_type": "code",
   "execution_count": 112,
   "id": "23c3a793",
   "metadata": {
    "deletable": false,
    "nbgrader": {
     "cell_type": "code",
     "checksum": "4dd4baea64b5303f3c6531a4ac076df3",
     "grade": false,
     "grade_id": "cell-d1ace5fce549a773",
     "locked": false,
     "schema_version": 3,
     "solution": true,
     "task": false
    }
   },
   "outputs": [],
   "source": [
    "#1đ, 7.5\n",
    "def getDateRangeBySQL(sqlContext: SQLContext, tableName: str) -> tuple:\n",
    "    '''\n",
    "    This function retrieves the start and end dates from the email dataset using SQL queries.\n",
    "\n",
    "    Args:\n",
    "    - sqlContext: An SQLContext object that provides the environment to run SQL queries on structured data.\n",
    "    - tableName: The name of the table that contains the email data.\n",
    "\n",
    "    Returns:\n",
    "    - (startDate, endDate): A tuple containing two elements: the earliest (start) date and the latest (end) date.\n",
    "    '''\n",
    "    # YOUR CODE HERE\n",
    "    # startDate_df = sqlContext.sql(f\"SELECT MIN(date) as minDate FROM {tableName}\")\n",
    "    # startDate = startDate_df.collect()[0]['minDate']\n",
    "    \n",
    "    # # Run SQL query to get the end date\n",
    "    # endDate_df = sqlContext.sql(f\"SELECT MAX(date) as maxDate FROM {tableName}\")\n",
    "    # endDate = endDate_df.collect()[0]['maxDate']\n",
    "    startDate, endDate = sqlContext.sql(f\"SELECT MIN(DateTime), MAX(DateTime) FROM {tableName}\").first()\n",
    "    \n",
    "    return startDate, endDate\n",
    "\n",
    "def getDateRangeByDFOperations(dataFrame: DataFrame) -> tuple:\n",
    "    '''\n",
    "    This function retrieves the start and end dates from the email dataset using DataFrame operations.\n",
    "\n",
    "    Args:\n",
    "    - dataFrame: A DataFrame containing the email data.\n",
    "\n",
    "    Returns:\n",
    "    - (startDate, endDate): A tuple containing two elements: the earliest (start) date and the latest (end) date.\n",
    "    '''\n",
    "     # YOUR CODE HERE\n",
    "     # raise NotImplementedError()\n",
    "    startDate = dataFrame.selectExpr(\"min(DateTime)\").collect()[0][0]\n",
    "    endDate = dataFrame.selectExpr(\"max(DateTime)\").collect()[0][0]\n",
    "    return startDate, endDate\n"
   ]
  },
  {
   "cell_type": "code",
   "execution_count": 113,
   "id": "f2c05d27",
   "metadata": {},
   "outputs": [
    {
     "data": {
      "text/plain": [
       "(datetime.date(1, 8, 1), datetime.date(2012, 11, 28))"
      ]
     },
     "execution_count": 113,
     "metadata": {},
     "output_type": "execute_result"
    }
   ],
   "source": [
    "getDateRangeBySQL(sqlContext,tableName)"
   ]
  },
  {
   "cell_type": "code",
   "execution_count": 114,
   "id": "6316acf9",
   "metadata": {},
   "outputs": [
    {
     "data": {
      "text/plain": [
       "(datetime.date(1, 8, 1), datetime.date(2012, 11, 28))"
      ]
     },
     "execution_count": 114,
     "metadata": {},
     "output_type": "execute_result"
    }
   ],
   "source": [
    "getDateRangeByDFOperations(dfEmais)"
   ]
  },
  {
   "cell_type": "code",
   "execution_count": null,
   "id": "9a9635fe",
   "metadata": {
    "deletable": false,
    "editable": false,
    "nbgrader": {
     "cell_type": "code",
     "checksum": "d21d1ff6a5e5533308bf5a01ffaf0bcd",
     "grade": true,
     "grade_id": "cell-b9f5111be939765c",
     "locked": true,
     "points": 0.5,
     "schema_version": 3,
     "solution": false,
     "task": false
    }
   },
   "outputs": [],
   "source": []
  },
  {
   "cell_type": "code",
   "execution_count": null,
   "id": "3f1dc2c2",
   "metadata": {
    "deletable": false,
    "editable": false,
    "nbgrader": {
     "cell_type": "code",
     "checksum": "082a1b454e699fc55ee6221cd3f04675",
     "grade": true,
     "grade_id": "cell-040fe6d90cdb261f",
     "locked": true,
     "points": 0.5,
     "schema_version": 3,
     "solution": false,
     "task": false
    }
   },
   "outputs": [],
   "source": []
  },
  {
   "cell_type": "code",
   "execution_count": 117,
   "id": "999f75b9",
   "metadata": {
    "deletable": false,
    "nbgrader": {
     "cell_type": "code",
     "checksum": "839dcda2370773c2bb688c3cb4babdf8",
     "grade": false,
     "grade_id": "cell-6b8a3a09e52c62fc",
     "locked": false,
     "schema_version": 3,
     "solution": true,
     "task": false
    }
   },
   "outputs": [],
   "source": [
    "# 1đ, 8.5\n",
    "def countEmailsInYearBySQL(sqlContext: SQLContext, tableName: str, year: int) -> int:\n",
    "    '''\n",
    "    This function calculates the number of emails sent in a given year by performing a group by operation on the DateTime column using SQL.\n",
    "\n",
    "    Args:\n",
    "    - sqlContext: An SQLContext object that provides the environment to run SQL queries on structured data.\n",
    "    - tableName: The name of the table that contains the email data.\n",
    "    - year: The specific year to filter the emails by.\n",
    "\n",
    "    Returns:\n",
    "    - email_count: An integer representing the number of emails sent in the given year.\n",
    "    '''\n",
    "    # YOUR CODE HERE\n",
    "    # raise NotImplementedError()\n",
    "    query = f\"\"\"\n",
    "    SELECT COUNT(*) FROM {tableName}\n",
    "    WHERE YEAR(DateTime) = {year}\n",
    "    \"\"\"\n",
    "    emailCount = sqlContext.sql(query).collect()[0][0]\n",
    "    return emailCount\n",
    "\n",
    "def countEmailsInYearByDFOperations(dataFrame: DataFrame, yearValue: int) -> int:\n",
    "    '''\n",
    "    This function calculates the number of emails sent in a given year by performing a filter operation on the DateTime column using DataFrame operations.\n",
    "\n",
    "    Args:\n",
    "    - dataFrame: A DataFrame containing the email data.\n",
    "    - yearValue: The specific year to filter the emails by.\n",
    "\n",
    "    Returns:\n",
    "    - email_count: An integer representing the number of emails sent in the given year.\n",
    "    '''\n",
    "    # YOUR CODE HERE\n",
    "    # raise NotImplementedError()\n",
    "    filtered_df = dataFrame.filter(year(col('DateTime')) == yearValue)\n",
    "    result = filtered_df.count()\n",
    "    return result\n"
   ]
  },
  {
   "cell_type": "code",
   "execution_count": 118,
   "id": "34a419f9",
   "metadata": {},
   "outputs": [
    {
     "data": {
      "text/plain": [
       "7462"
      ]
     },
     "execution_count": 118,
     "metadata": {},
     "output_type": "execute_result"
    }
   ],
   "source": [
    "countEmailsInYearBySQL(sqlContext,tableName,2000)"
   ]
  },
  {
   "cell_type": "code",
   "execution_count": 119,
   "id": "0072c30b",
   "metadata": {},
   "outputs": [
    {
     "data": {
      "text/plain": [
       "7462"
      ]
     },
     "execution_count": 119,
     "metadata": {},
     "output_type": "execute_result"
    }
   ],
   "source": [
    "countEmailsInYearByDFOperations(dfEmais,2000)"
   ]
  },
  {
   "cell_type": "code",
   "execution_count": null,
   "id": "4687c3d1",
   "metadata": {
    "deletable": false,
    "editable": false,
    "nbgrader": {
     "cell_type": "code",
     "checksum": "1d2f5764f769c428ffb5e8033ed6974c",
     "grade": true,
     "grade_id": "cell-8cd50007319c31c3",
     "locked": true,
     "points": 0.5,
     "schema_version": 3,
     "solution": false,
     "task": false
    }
   },
   "outputs": [],
   "source": []
  },
  {
   "cell_type": "code",
   "execution_count": null,
   "id": "3f666c38",
   "metadata": {
    "deletable": false,
    "editable": false,
    "nbgrader": {
     "cell_type": "code",
     "checksum": "d677c6c48804e4c14c212d142091fba5",
     "grade": true,
     "grade_id": "cell-9fb0d8fbb5586419",
     "locked": true,
     "points": 0.5,
     "schema_version": 3,
     "solution": false,
     "task": false
    }
   },
   "outputs": [],
   "source": []
  },
  {
   "cell_type": "code",
   "execution_count": 128,
   "id": "b7be8129",
   "metadata": {
    "deletable": false,
    "nbgrader": {
     "cell_type": "code",
     "checksum": "557cb3186fa786a94aa208d94b8eda75",
     "grade": false,
     "grade_id": "cell-efc7692f7eb213ab",
     "locked": false,
     "schema_version": 3,
     "solution": true,
     "task": false
    }
   },
   "outputs": [],
   "source": [
    "# 1đ\n",
    "from pyspark.sql import DataFrame\n",
    "from pyspark.sql.functions import desc\n",
    "def countEmailsPerDayBySQL(sqlContext: SQLContext, tableName: str) -> DataFrame:\n",
    "    '''\n",
    "    This function calculates the number of emails sent per day by performing a group by operation on the DateTime column \n",
    "    and sorts the result in descending order by the number of emails.\n",
    "\n",
    "    Args:\n",
    "    - sqlContext: An SQLContext object that provides the environment to run SQL queries on structured data.\n",
    "    - tableName: The name of the table that contains the email data.\n",
    "\n",
    "    Returns:\n",
    "    - resultDF: A DataFrame containing the number of emails sent per day, sorted in descending order by email count.\n",
    "                With schema:\n",
    "                    root\n",
    "                     |-- Date: integer (nullable = true)\n",
    "                     |-- count: long (nullable = false)\n",
    "    '''\n",
    "    # YOUR CODE HERE\n",
    "    # raise NotImplementedError()\n",
    "    result = sqlContext.sql(f\"SELECT DateTime as Date, COUNT(*) as count FROM {tableName} GROUP BY DateTime ORDER BY count DESC\")\n",
    "    return result\n",
    "\n",
    "def countEmailsPerDayByDFOperations(dataFrame: DataFrame) -> DataFrame:\n",
    "    '''\n",
    "    This function calculates the number of emails sent per day by performing a group by operation on the DateTime column \n",
    "    and sorts the result in descending order by the number of emails.\n",
    "\n",
    "    Args:\n",
    "    - dataFrame: A DataFrame containing the email data.\n",
    "\n",
    "    Returns:\n",
    "    - resultDF: A DataFrame containing the number of emails sent per day, sorted in descending order by email count.\n",
    "                With schema:\n",
    "                    root\n",
    "                     |-- Date: integer (nullable = true)\n",
    "                     |-- count: long (nullable = false)\n",
    "    '''\n",
    "    # YOUR CODE HERE\n",
    "    # raise NotImplementedError()\n",
    "    result = dataFrame.groupBy('DateTime').count().withColumnRenamed(\"count\", \"count\").orderBy(desc(\"count\"))\n",
    "    return result\n"
   ]
  },
  {
   "cell_type": "code",
   "execution_count": 129,
   "id": "d99533ca",
   "metadata": {},
   "outputs": [
    {
     "name": "stdout",
     "output_type": "stream",
     "text": [
      "+----------+-----+\n",
      "|      Date|count|\n",
      "+----------+-----+\n",
      "|2000-12-13|  140|\n",
      "|2000-12-12|  128|\n",
      "|2001-10-24|  111|\n",
      "|2001-10-26|  108|\n",
      "|2001-11-27|  107|\n",
      "|2001-10-25|  105|\n",
      "|2001-11-26|   99|\n",
      "|2002-01-30|   95|\n",
      "|2000-12-11|   95|\n",
      "|2001-10-23|   94|\n",
      "|2001-11-19|   93|\n",
      "|2000-12-08|   91|\n",
      "|2000-11-28|   91|\n",
      "|2001-10-22|   88|\n",
      "|2001-11-20|   88|\n",
      "|2001-11-21|   88|\n",
      "|2001-10-18|   86|\n",
      "|2000-12-04|   84|\n",
      "|2001-05-01|   83|\n",
      "|2001-04-19|   83|\n",
      "+----------+-----+\n",
      "only showing top 20 rows\n",
      "\n"
     ]
    }
   ],
   "source": [
    "countEmailsPerDayBySQL(sqlContext,tableName).show()"
   ]
  },
  {
   "cell_type": "code",
   "execution_count": 125,
   "id": "91eee032",
   "metadata": {},
   "outputs": [
    {
     "name": "stdout",
     "output_type": "stream",
     "text": [
      "+----------+-----+\n",
      "|  DateTime|count|\n",
      "+----------+-----+\n",
      "|2000-12-13|  140|\n",
      "|2000-12-12|  128|\n",
      "|2001-10-24|  111|\n",
      "|2001-10-26|  108|\n",
      "|2001-11-27|  107|\n",
      "|2001-10-25|  105|\n",
      "|2001-11-26|   99|\n",
      "|2002-01-30|   95|\n",
      "|2000-12-11|   95|\n",
      "|2001-10-23|   94|\n",
      "|2001-11-19|   93|\n",
      "|2000-12-08|   91|\n",
      "|2000-11-28|   91|\n",
      "|2001-10-22|   88|\n",
      "|2001-11-20|   88|\n",
      "|2001-11-21|   88|\n",
      "|2001-10-18|   86|\n",
      "|2000-12-04|   84|\n",
      "|2001-05-01|   83|\n",
      "|2001-04-19|   83|\n",
      "+----------+-----+\n",
      "only showing top 20 rows\n",
      "\n"
     ]
    }
   ],
   "source": [
    "countEmailsPerDayByDFOperations(dfEmais).show()"
   ]
  },
  {
   "cell_type": "code",
   "execution_count": null,
   "id": "80a459f7",
   "metadata": {
    "deletable": false,
    "editable": false,
    "nbgrader": {
     "cell_type": "code",
     "checksum": "1330955b2cecc8ee8a1132effed9babe",
     "grade": true,
     "grade_id": "cell-ba0426c383b52bf6",
     "locked": true,
     "points": 0.5,
     "schema_version": 3,
     "solution": false,
     "task": false
    }
   },
   "outputs": [],
   "source": []
  },
  {
   "cell_type": "code",
   "execution_count": null,
   "id": "710bd50e",
   "metadata": {
    "deletable": false,
    "editable": false,
    "nbgrader": {
     "cell_type": "code",
     "checksum": "0c047bbc5a4e9b56dbc0357cc74ba43d",
     "grade": true,
     "grade_id": "cell-f943c2987596321f",
     "locked": true,
     "points": 0.5,
     "schema_version": 3,
     "solution": false,
     "task": false
    }
   },
   "outputs": [],
   "source": []
  }
 ],
 "metadata": {
  "kernelspec": {
   "display_name": "Python 3 (ipykernel)",
   "language": "python",
   "name": "python3"
  },
  "language_info": {
   "codemirror_mode": {
    "name": "ipython",
    "version": 3
   },
   "file_extension": ".py",
   "mimetype": "text/x-python",
   "name": "python",
   "nbconvert_exporter": "python",
   "pygments_lexer": "ipython3",
   "version": "3.9.13"
  }
 },
 "nbformat": 4,
 "nbformat_minor": 5
}
